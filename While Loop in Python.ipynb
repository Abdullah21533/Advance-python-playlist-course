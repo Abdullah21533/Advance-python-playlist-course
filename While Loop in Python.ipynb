{
 "cells": [
  {
   "cell_type": "markdown",
   "id": "b828b9c6-eb5c-4246-afb9-947d72d5a2ec",
   "metadata": {},
   "source": [
    "# While Loop in Python"
   ]
  },
  {
   "cell_type": "markdown",
   "id": "f4d5b1ba-65da-43d8-8372-a7ac9569cc59",
   "metadata": {},
   "source": [
    "### Understanding the While Loop"
   ]
  },
  {
   "cell_type": "code",
   "execution_count": 1,
   "id": "62b329a9-fa43-4104-87de-bf49900c6512",
   "metadata": {},
   "outputs": [
    {
     "name": "stdin",
     "output_type": "stream",
     "text": [
      "Enter a number:  3\n"
     ]
    },
    {
     "name": "stdout",
     "output_type": "stream",
     "text": [
      "3 x 1 = 3\n",
      "3 x 2 = 6\n",
      "3 x 3 = 9\n",
      "3 x 4 = 12\n",
      "3 x 5 = 15\n",
      "3 x 6 = 18\n",
      "3 x 7 = 21\n",
      "3 x 8 = 24\n",
      "3 x 9 = 27\n",
      "3 x 10 = 30\n"
     ]
    }
   ],
   "source": [
    "# Example of while loop to print Multiplication Table\n",
    "\n",
    "# Ask the user for a number \n",
    "number = int(input(\"Enter a number: \"))\n",
    "\n",
    " # initialize a counter variable \n",
    "i = 1\n",
    "\n",
    "# loop to print the Multiplication\n",
    "while i <= 10:\n",
    "    print(f\"{number} x {i} = {number * i}\")\n",
    "    i += 1\n"
   ]
  },
  {
   "cell_type": "markdown",
   "id": "7e21fa84-bcb0-49a4-ba7e-1adb3f1ae58d",
   "metadata": {},
   "source": [
    "### Sum of Natural Numbers"
   ]
  },
  {
   "cell_type": "code",
   "execution_count": null,
   "id": "9fec56ba-bc15-40f3-b174-e14bcec32fda",
   "metadata": {},
   "outputs": [
    {
     "name": "stdin",
     "output_type": "stream",
     "text": [
      "Enter a number:  3\n"
     ]
    }
   ],
   "source": [
    "# Eample of the while loop to calculate the sum of first 'n' natural numbers\n",
    "\n",
    "# ASk the user for a number \n",
    "n = int(input(\"Enter a number: \"))\n",
    "# initialize the sum variable \n",
    "total_sum = 0\n",
    "\n",
    "# intialize the counter variable \n",
    "i = 1\n",
    "\n",
    "# loop to calculate the sum\n",
    "while i <= n:\n",
    "    total_sum += i\n",
    "\n",
    "print(f\"The sum of the first {n} natural number is {total_sum}\")"
   ]
  },
  {
   "cell_type": "markdown",
   "id": "00b0ccf9-fc36-4f32-a96c-0979bd1fd3df",
   "metadata": {},
   "source": [
    "### Finding the Factorial of a Number"
   ]
  },
  {
   "cell_type": "code",
   "execution_count": null,
   "id": "3eed3466-5b2a-4060-9171-2c2e9e2e2885",
   "metadata": {},
   "outputs": [],
   "source": [
    "# Example of while loop to find the Factorial of a number \n",
    "\n",
    "# Ask the user for a non-negative integer\n",
    "number = int(input(\"Enter a non-negative integer: \"))\n",
    "\n",
    "# Initialize the factorial variable \n",
    "factorial = 1\n",
    "\n",
    "# Initialize the  counter variable \n",
    "i= 1\n",
    "# loop to calculate the factorial\n",
    "while i <= number :\n",
    "    factorial *= i\n",
    "    i += 1\n",
    "print(f\"The factorial of {number} is {fact}\")\n"
   ]
  },
  {
   "cell_type": "code",
   "execution_count": null,
   "id": "1fb834b1-23d7-4e83-bf13-9e2ca03f1033",
   "metadata": {},
   "outputs": [],
   "source": []
  }
 ],
 "metadata": {
  "kernelspec": {
   "display_name": "Python 3 (ipykernel)",
   "language": "python",
   "name": "python3"
  },
  "language_info": {
   "codemirror_mode": {
    "name": "ipython",
    "version": 3
   },
   "file_extension": ".py",
   "mimetype": "text/x-python",
   "name": "python",
   "nbconvert_exporter": "python",
   "pygments_lexer": "ipython3",
   "version": "3.11.7"
  }
 },
 "nbformat": 4,
 "nbformat_minor": 5
}
