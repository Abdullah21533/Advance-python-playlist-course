{
 "cells": [
  {
   "cell_type": "markdown",
   "id": "ec8dcd2a-d243-44c8-8d0b-eab73634ebae",
   "metadata": {},
   "source": [
    "# If-Else Statements in Python"
   ]
  },
  {
   "cell_type": "markdown",
   "id": "facaa17c-2ee0-4e98-94ac-695dd36520c1",
   "metadata": {},
   "source": [
    "### Check Even or Odd"
   ]
  },
  {
   "cell_type": "code",
   "execution_count": 2,
   "id": "6b6daa7d-1127-4fd3-b6b7-eb68da6013d0",
   "metadata": {},
   "outputs": [
    {
     "name": "stdin",
     "output_type": "stream",
     "text": [
      "Enter a number 2\n"
     ]
    },
    {
     "name": "stdout",
     "output_type": "stream",
     "text": [
      "The number is even.\n"
     ]
    }
   ],
   "source": [
    "# Get a number from the user\n",
    "number = int(input(\"Enter a number\"))\n",
    "\n",
    "# Check if the number is even or  odd\n",
    "if number % 2 == 0:\n",
    "    print(\"The number is even.\")\n",
    "else:\n",
    "    print(\"The number is odd\")\n"
   ]
  },
  {
   "cell_type": "markdown",
   "id": "dd08fb77-98c2-4901-8264-8ce7c48e0a15",
   "metadata": {},
   "source": [
    "### Adding a Retry Mechanism"
   ]
  },
  {
   "cell_type": "code",
   "execution_count": 5,
   "id": "cba634ec-542c-4b05-bcea-bdf070b71ec5",
   "metadata": {},
   "outputs": [
    {
     "name": "stdin",
     "output_type": "stream",
     "text": [
      "Enter a positive number:  3\n"
     ]
    },
    {
     "name": "stdout",
     "output_type": "stream",
     "text": [
      "The number is odd.\n"
     ]
    }
   ],
   "source": [
    "# Get a number from the user\n",
    "number = int(input(\"Enter a positive number: \"))\n",
    "\n",
    "#Check if the number is negative\n",
    "if number < 0:\n",
    "    print(\"You entered a negative number. Please try again.\")\n",
    "    number = int(input(\"Enter a positive number: \"))\n",
    "\n",
    "# Check if the number is even or odd\n",
    "if number % 2 == 0:\n",
    "    print(\"The number is even.\")\n",
    "else:\n",
    "    print(\"The number is odd.\")"
   ]
  },
  {
   "cell_type": "markdown",
   "id": "3630850b-8e44-4df4-b7b7-7df3a4f7a98f",
   "metadata": {},
   "source": [
    "### Nested If-Else Statements"
   ]
  },
  {
   "cell_type": "code",
   "execution_count": 9,
   "id": "ad8a242c-ae94-40fd-9cc1-ed6bb37b8532",
   "metadata": {},
   "outputs": [
    {
     "name": "stdin",
     "output_type": "stream",
     "text": [
      "Enter a number:  14\n"
     ]
    },
    {
     "name": "stdout",
     "output_type": "stream",
     "text": [
      "The number is even.\n"
     ]
    }
   ],
   "source": [
    "# Get a number from the user \n",
    "number = int(input(\"Enter a number: \"))\n",
    "\n",
    "# Check if the number is Zero, positive, or negative\n",
    "if number == 0:\n",
    "    print(\"The number is zero\")\n",
    "elif number > 0:\n",
    "    if number % 2 == 0:\n",
    "        print(\"The number is even.\")\n",
    "        \n",
    "    else:\n",
    "        print(\"The number is odd.\")\n",
    "\n",
    "else:\n",
    "    print(\"The number is negative. \")\n"
   ]
  },
  {
   "cell_type": "markdown",
   "id": "eec74d7b-1c0c-46d4-9bb0-976e2c2ecf07",
   "metadata": {},
   "source": [
    "### Grade Calculator for Kids"
   ]
  },
  {
   "cell_type": "code",
   "execution_count": 12,
   "id": "1836a717-6f49-4838-9d4f-63fcf2eac1e6",
   "metadata": {},
   "outputs": [
    {
     "name": "stdin",
     "output_type": "stream",
     "text": [
      "Enter your score:  40\n"
     ]
    },
    {
     "name": "stdout",
     "output_type": "stream",
     "text": [
      "Your grade is F. \n"
     ]
    }
   ],
   "source": [
    "# Get the score from the user\n",
    "score = int(input(\"Enter your score: \"))\n",
    "\n",
    "# Determine the grade\n",
    "if score >= 90:\n",
    "    print(\"Your grade is A. \")\n",
    "elif score >= 80:\n",
    "    print(\"Your grade is B. \")\n",
    "elif score >= 70:\n",
    "    print(\"Your grade is c. \")\n",
    "elif score >= 60:\n",
    "    print(\"Your grade is D. \")\n",
    "else:\n",
    "    print(\"Your grade is F. \")"
   ]
  },
  {
   "cell_type": "code",
   "execution_count": null,
   "id": "939c5ec1-eea8-465d-92f0-f93f07039077",
   "metadata": {},
   "outputs": [],
   "source": []
  }
 ],
 "metadata": {
  "kernelspec": {
   "display_name": "Python 3 (ipykernel)",
   "language": "python",
   "name": "python3"
  },
  "language_info": {
   "codemirror_mode": {
    "name": "ipython",
    "version": 3
   },
   "file_extension": ".py",
   "mimetype": "text/x-python",
   "name": "python",
   "nbconvert_exporter": "python",
   "pygments_lexer": "ipython3",
   "version": "3.11.7"
  }
 },
 "nbformat": 4,
 "nbformat_minor": 5
}
