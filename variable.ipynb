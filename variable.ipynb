{
 "cells": [
  {
   "cell_type": "markdown",
   "id": "a3263a31-bdb9-495a-9bb2-a08dbd075652",
   "metadata": {},
   "source": [
    "# Variable in python"
   ]
  },
  {
   "cell_type": "code",
   "execution_count": 1,
   "id": "fea14504-0092-40bc-885e-4023e7103ccb",
   "metadata": {},
   "outputs": [
    {
     "name": "stdout",
     "output_type": "stream",
     "text": [
      "Alice\n"
     ]
    }
   ],
   "source": [
    "name = \"Alice\"\n",
    "print(name)"
   ]
  },
  {
   "cell_type": "markdown",
   "id": "74e43713-9fa6-4043-8b28-5e8da149d5ca",
   "metadata": {},
   "source": [
    "## Dynamic Typing"
   ]
  },
  {
   "cell_type": "code",
   "execution_count": 2,
   "id": "2f2a6f42-0ef7-4b62-bc0d-01ecde13a98a",
   "metadata": {},
   "outputs": [],
   "source": [
    "age = 25\n",
    "height = 5.9\n",
    "is_student = True"
   ]
  },
  {
   "cell_type": "markdown",
   "id": "7444d8a7-45aa-4f6c-b28a-ce3684120293",
   "metadata": {},
   "source": [
    "## Dynamic Binding"
   ]
  },
  {
   "cell_type": "code",
   "execution_count": 6,
   "id": "63a4f69b-864f-45e1-b37b-8f77d2ee6033",
   "metadata": {},
   "outputs": [
    {
     "name": "stdout",
     "output_type": "stream",
     "text": [
      "Hello\n",
      "123\n",
      "False\n"
     ]
    }
   ],
   "source": [
    "variable = \"Hello\"\n",
    "print(variable)\n",
    "\n",
    "\n",
    "variable = 123\n",
    "print(variable)\n",
    "\n",
    "\n",
    "variable = False\n",
    "print(variable)"
   ]
  },
  {
   "cell_type": "markdown",
   "id": "73cb7d9e-411b-4738-8da6-4bbb35a4fa4c",
   "metadata": {},
   "source": [
    "### Special Syntax for Variable Declaration"
   ]
  },
  {
   "cell_type": "code",
   "execution_count": 7,
   "id": "16d1e0d2-9ee6-472b-8e55-eeed4b522f3a",
   "metadata": {},
   "outputs": [
    {
     "name": "stdout",
     "output_type": "stream",
     "text": [
      "5 6 7\n"
     ]
    }
   ],
   "source": [
    "a = 5; b = 6; c = 7\n",
    "print(a, b, c)"
   ]
  },
  {
   "cell_type": "markdown",
   "id": "f6294dba-a048-4c3c-be3e-f6e0613f128f",
   "metadata": {},
   "source": [
    "## Simultaneous assignement:\n"
   ]
  },
  {
   "cell_type": "code",
   "execution_count": 8,
   "id": "3f919949-1ea7-4fe2-8c34-336629ae6719",
   "metadata": {},
   "outputs": [
    {
     "name": "stdout",
     "output_type": "stream",
     "text": [
      "1 2 3\n"
     ]
    }
   ],
   "source": [
    "x, y ,z = 1, 2, 3\n",
    "print(x, y, z)"
   ]
  },
  {
   "cell_type": "markdown",
   "id": "89cc9a4a-3689-4d86-94d2-0f4b083addb0",
   "metadata": {},
   "source": [
    "### Chain assignment:"
   ]
  },
  {
   "cell_type": "code",
   "execution_count": 10,
   "id": "2b69c250-1d71-4646-bd66-0b0ee8d8344d",
   "metadata": {},
   "outputs": [
    {
     "name": "stdout",
     "output_type": "stream",
     "text": [
      "10 10 10\n"
     ]
    }
   ],
   "source": [
    "i = j = k = 10 \n",
    "print(i,j, k )"
   ]
  },
  {
   "cell_type": "code",
   "execution_count": null,
   "id": "9b51bec9-9357-4302-9825-17284c055f28",
   "metadata": {},
   "outputs": [],
   "source": []
  }
 ],
 "metadata": {
  "kernelspec": {
   "display_name": "Python 3 (ipykernel)",
   "language": "python",
   "name": "python3"
  },
  "language_info": {
   "codemirror_mode": {
    "name": "ipython",
    "version": 3
   },
   "file_extension": ".py",
   "mimetype": "text/x-python",
   "name": "python",
   "nbconvert_exporter": "python",
   "pygments_lexer": "ipython3",
   "version": "3.11.7"
  }
 },
 "nbformat": 4,
 "nbformat_minor": 5
}
