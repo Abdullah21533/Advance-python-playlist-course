{
 "cells": [
  {
   "cell_type": "markdown",
   "id": "cd5524d8-9780-428a-aeea-e45769fdd8e8",
   "metadata": {},
   "source": [
    "# Taking User Input in Python: The 'input' Function"
   ]
  },
  {
   "cell_type": "markdown",
   "id": "14bba552-8a45-48d9-aafc-7faf98c4bcf0",
   "metadata": {},
   "source": [
    "## Using the 'input' Function"
   ]
  },
  {
   "cell_type": "code",
   "execution_count": 2,
   "id": "4ea801a1-5f25-4791-bea9-47ff3369d6dd",
   "metadata": {},
   "outputs": [
    {
     "name": "stdin",
     "output_type": "stream",
     "text": [
      " 1wdcsr4\n"
     ]
    }
   ],
   "source": [
    "user_input = input()"
   ]
  },
  {
   "cell_type": "code",
   "execution_count": 3,
   "id": "c30361e1-5f87-48c5-b2fc-751670b23df7",
   "metadata": {},
   "outputs": [
    {
     "name": "stdin",
     "output_type": "stream",
     "text": [
      "please enter your name:  abdullah\n"
     ]
    },
    {
     "name": "stdout",
     "output_type": "stream",
     "text": [
      "Hello,abdullah!\n"
     ]
    }
   ],
   "source": [
    "name = input(\"please enter your name: \")\n",
    "print(\"Hello,\" + name+ \"!\")"
   ]
  },
  {
   "cell_type": "markdown",
   "id": "a60f41a9-06c8-4d94-87a4-8fbe7dfd1baa",
   "metadata": {},
   "source": [
    "## Adding Two Numbers"
   ]
  },
  {
   "cell_type": "code",
   "execution_count": 4,
   "id": "d995469c-804b-4298-a3a9-9cb45d0f19b1",
   "metadata": {},
   "outputs": [
    {
     "name": "stdin",
     "output_type": "stream",
     "text": [
      "Enter the first number: 2\n",
      "Enter the second number d\n"
     ]
    },
    {
     "name": "stdout",
     "output_type": "stream",
     "text": [
      "First Number: 2\n",
      "Second Number: d\n",
      "2d\n"
     ]
    }
   ],
   "source": [
    "# Taking input from the user\n",
    "first_number = input(\"Enter the first number:\")\n",
    "second_number = input(\"Enter the second number\")\n",
    "\n",
    "# Printing the input to check their values\n",
    "print(\"First Number:\", first_number)\n",
    "print(\"Second Number:\", second_number)\n",
    "\n",
    "#Adding the number\n",
    "result = first_number + second_number \n",
    "print(result)"
   ]
  },
  {
   "cell_type": "markdown",
   "id": "8a167fce-d5bd-401e-9db3-172e81c10c49",
   "metadata": {},
   "source": [
    "## Understanding Type Conversion"
   ]
  },
  {
   "cell_type": "code",
   "execution_count": 5,
   "id": "0b8b7145-5f80-432f-b07e-aabf21d28c84",
   "metadata": {},
   "outputs": [
    {
     "name": "stdin",
     "output_type": "stream",
     "text": [
      "Enter the first number: 56\n",
      "Enter the second number 76\n"
     ]
    },
    {
     "name": "stdout",
     "output_type": "stream",
     "text": [
      "132\n"
     ]
    }
   ],
   "source": [
    "# Taking input from the user\n",
    "first_number = int(input(\"Enter the first number:\"))\n",
    "second_number = int(input(\"Enter the second number\"))\n",
    "\n",
    "#Adding the number\n",
    "result = first_number + second_number \n",
    "print(result)"
   ]
  },
  {
   "cell_type": "markdown",
   "id": "3b5cf742-55ba-405c-83b9-229f9929a60d",
   "metadata": {},
   "source": [
    "## Checking Data Types"
   ]
  },
  {
   "cell_type": "code",
   "execution_count": 6,
   "id": "246a420d-8656-4e36-9ccf-418f59bf44bf",
   "metadata": {},
   "outputs": [
    {
     "name": "stdin",
     "output_type": "stream",
     "text": [
      "Enter something:  type\n"
     ]
    },
    {
     "name": "stdout",
     "output_type": "stream",
     "text": [
      "Data type of user_input: <class 'str'>\n"
     ]
    }
   ],
   "source": [
    "# Taking input from the user\n",
    "user_input = input(\"Enter something: \")\n",
    "\n",
    "#check the data type \n",
    "print(\"Data type of user_input:\", type(user_input))"
   ]
  },
  {
   "cell_type": "code",
   "execution_count": null,
   "id": "dc51f7e1-aebe-483e-8c92-efa5413672bd",
   "metadata": {},
   "outputs": [],
   "source": []
  }
 ],
 "metadata": {
  "kernelspec": {
   "display_name": "Python 3 (ipykernel)",
   "language": "python",
   "name": "python3"
  },
  "language_info": {
   "codemirror_mode": {
    "name": "ipython",
    "version": 3
   },
   "file_extension": ".py",
   "mimetype": "text/x-python",
   "name": "python",
   "nbconvert_exporter": "python",
   "pygments_lexer": "ipython3",
   "version": "3.11.7"
  }
 },
 "nbformat": 4,
 "nbformat_minor": 5
}
