{
 "cells": [
  {
   "cell_type": "markdown",
   "id": "489f80c9-66fa-40af-b9f1-65ad7d89c7eb",
   "metadata": {},
   "source": [
    "# String Functions in Python Part 5"
   ]
  },
  {
   "cell_type": "markdown",
   "id": "3bd375c8-a64a-41af-a221-52c677ae1065",
   "metadata": {},
   "source": [
    "### Common String Functions"
   ]
  },
  {
   "cell_type": "markdown",
   "id": "6ed85533-1c7b-4332-9678-ad322c59fa57",
   "metadata": {},
   "source": [
    "### 1. Length (len)"
   ]
  },
  {
   "cell_type": "code",
   "execution_count": 1,
   "id": "f2a3de9e-d8f1-4d2a-a5d9-f7158c6fea5b",
   "metadata": {},
   "outputs": [
    {
     "name": "stdout",
     "output_type": "stream",
     "text": [
      "5\n"
     ]
    }
   ],
   "source": [
    "s = \"Hello\"\n",
    "print(len(s))"
   ]
  },
  {
   "cell_type": "markdown",
   "id": "85635615-41cc-4a5e-b41b-382e3ffbfd73",
   "metadata": {},
   "source": [
    "### 2. Max and Min"
   ]
  },
  {
   "cell_type": "code",
   "execution_count": 3,
   "id": "8c310503-aa4e-4192-b01f-3b3e574740b3",
   "metadata": {},
   "outputs": [
    {
     "name": "stdout",
     "output_type": "stream",
     "text": [
      "n\n",
      "a\n"
     ]
    }
   ],
   "source": [
    "s = \"banana\"\n",
    "print(max(s))\n",
    "print(min(s))"
   ]
  },
  {
   "cell_type": "markdown",
   "id": "3e876b10-9e4e-4c4a-8953-a525c129afd1",
   "metadata": {},
   "source": [
    "### 3. Sorted"
   ]
  },
  {
   "cell_type": "code",
   "execution_count": 4,
   "id": "73a7dd5f-c318-46b8-87fd-50f97e69dedf",
   "metadata": {},
   "outputs": [
    {
     "name": "stdout",
     "output_type": "stream",
     "text": [
      "['a', 'e', 'l', 'p', 'p']\n"
     ]
    }
   ],
   "source": [
    "s = \"apple\"\n",
    "print(sorted(s))"
   ]
  },
  {
   "cell_type": "markdown",
   "id": "38e8f6a2-19dc-4e11-9cfb-4335a0682100",
   "metadata": {},
   "source": [
    "##### To sort in descending order, use the reverse=True parameter:\n",
    "\n"
   ]
  },
  {
   "cell_type": "code",
   "execution_count": 5,
   "id": "16c48cbd-bfff-47d0-8fd4-f93d0c0f3a8f",
   "metadata": {},
   "outputs": [
    {
     "name": "stdout",
     "output_type": "stream",
     "text": [
      "['p', 'p', 'l', 'e', 'a']\n"
     ]
    }
   ],
   "source": [
    "print(sorted(s, reverse=True))"
   ]
  },
  {
   "cell_type": "markdown",
   "id": "12453392-361d-4642-a467-6d65598326d8",
   "metadata": {},
   "source": [
    "### String-Specific Functions"
   ]
  },
  {
   "cell_type": "markdown",
   "id": "f0dcc047-0248-46d6-9d91-2d0606e971b9",
   "metadata": {},
   "source": [
    "1. Capitalize, Title, Upper, Lower, and Swapcase\n",
    "\n",
    "capitalize(): Capitalizes the first character of the string.\n",
    "title(): Capitalizes the first character of each word.\n",
    "upper(): Converts all characters to uppercase.\n",
    "lower(): Converts all characters to lowercase.\n",
    "swapcase(): Swaps the case of all characters (uppercase to lowercase and vice versa)."
   ]
  },
  {
   "cell_type": "code",
   "execution_count": 10,
   "id": "f5408708-ef4b-43be-b5b0-082696655994",
   "metadata": {},
   "outputs": [
    {
     "name": "stdout",
     "output_type": "stream",
     "text": [
      "It is raining\n",
      "It Is Raining\n",
      "IT IS RAINING\n",
      "it is raining\n",
      "IT IS RAINING\n"
     ]
    }
   ],
   "source": [
    "s = \"it is raining\"\n",
    "print(s.capitalize())\n",
    "print(s.title())\n",
    "print(s.upper())\n",
    "print(s.lower())\n",
    "print(s.swapcase())"
   ]
  },
  {
   "cell_type": "markdown",
   "id": "e27ca87e-90dc-4a6a-acb8-c12d6afeeb28",
   "metadata": {},
   "source": [
    "### 2. Count"
   ]
  },
  {
   "cell_type": "code",
   "execution_count": 11,
   "id": "81187cc8-e572-4418-a435-0378bcc33ab4",
   "metadata": {},
   "outputs": [
    {
     "name": "stdout",
     "output_type": "stream",
     "text": [
      "3\n"
     ]
    }
   ],
   "source": [
    "s = \"banana\"\n",
    "print(s.count(\"a\"))"
   ]
  },
  {
   "cell_type": "markdown",
   "id": "aa50495c-e4af-456e-a29b-ffebcf0a1f49",
   "metadata": {},
   "source": [
    "### 3. Find and Index"
   ]
  },
  {
   "cell_type": "code",
   "execution_count": 14,
   "id": "dab9eb8f-9a79-4dc6-aa20-7b3b66c969de",
   "metadata": {},
   "outputs": [
    {
     "name": "stdout",
     "output_type": "stream",
     "text": [
      "4\n",
      "4\n",
      "-1\n"
     ]
    }
   ],
   "source": [
    "s = \"hello world\"\n",
    "print(s.find(\"o\"))\n",
    "print(s.find(\"o\"))\n",
    "print(s.find(\"x\"))"
   ]
  },
  {
   "cell_type": "markdown",
   "id": "de4bb2c2-caac-4343-85b7-c78910afe121",
   "metadata": {},
   "source": [
    "### 4. Startswith and Endswith"
   ]
  },
  {
   "cell_type": "code",
   "execution_count": 16,
   "id": "d74d79fe-ad2b-4628-9fa9-6ab69f7a0a04",
   "metadata": {},
   "outputs": [
    {
     "name": "stdout",
     "output_type": "stream",
     "text": [
      "True\n",
      "True\n"
     ]
    }
   ],
   "source": [
    "s = \"hello world\"\n",
    "print(s.startswith(\"hello\"))\n",
    "print(s.endswith(\"world\"))"
   ]
  },
  {
   "cell_type": "markdown",
   "id": "ce4bde3d-f987-4ad1-8c5a-9032dc3c5c5e",
   "metadata": {},
   "source": [
    "### 5. Format"
   ]
  },
  {
   "cell_type": "code",
   "execution_count": 17,
   "id": "2bfc7c07-4b9a-441a-94e7-7bd0338ccd01",
   "metadata": {},
   "outputs": [
    {
     "name": "stdout",
     "output_type": "stream",
     "text": [
      "Hello, my name is Alice and i am 12 years old\n"
     ]
    }
   ],
   "source": [
    "name = \"Alice\"\n",
    "age = 12\n",
    "print(\"Hello, my name is {} and i am {} years old\".format(name,age))"
   ]
  },
  {
   "cell_type": "markdown",
   "id": "5c63c76a-f6a9-4a58-8dde-0a9ebe360fb5",
   "metadata": {},
   "source": [
    "You can also use named placeholders:"
   ]
  },
  {
   "cell_type": "code",
   "execution_count": 20,
   "id": "14e7f2c7-6614-4765-90c5-0711ab9d2d5c",
   "metadata": {},
   "outputs": [
    {
     "name": "stdout",
     "output_type": "stream",
     "text": [
      "Hello, my name is Alice and i am 12 years old.\n"
     ]
    }
   ],
   "source": [
    "print(\"Hello, my name is {name} and i am {age} years old.\".format(name=name, age=age))"
   ]
  },
  {
   "cell_type": "markdown",
   "id": "5f68bd80-87be-4103-aaae-cf149564458d",
   "metadata": {},
   "source": [
    "### 6. Is Functions"
   ]
  },
  {
   "cell_type": "raw",
   "id": "998e65e4-70cf-48de-83a4-dfee1813c179",
   "metadata": {},
   "source": [
    "These functions check for specific conditions in the string and return True or False.\n",
    "\n",
    "isalnum(): Checks if all characters are alphanumeric.\n",
    "isalpha(): Checks if all characters are alphabetic.\n",
    "isdigit(): Checks if all characters are digits.\n",
    "islower(): Checks if all characters are lowercase.\n",
    "isupper(): Checks if all characters are uppercase."
   ]
  },
  {
   "cell_type": "code",
   "execution_count": 24,
   "id": "63989796-247f-4cb9-b67d-08e0ab01060f",
   "metadata": {},
   "outputs": [
    {
     "name": "stdout",
     "output_type": "stream",
     "text": [
      "True\n",
      "False\n",
      "True\n"
     ]
    }
   ],
   "source": [
    "s = \"Hello123\"\n",
    "print(s.isalnum())\n",
    "print(s.isalpha())\n",
    "print(\"123\".isdigit())"
   ]
  },
  {
   "cell_type": "markdown",
   "id": "5c737b6f-5ee4-4683-9f0b-4e28677f59e8",
   "metadata": {},
   "source": [
    "### 7. Split and Join"
   ]
  },
  {
   "cell_type": "code",
   "execution_count": 26,
   "id": "131d3c06-dd17-4a15-9b22-a78ff432452f",
   "metadata": {},
   "outputs": [
    {
     "name": "stdout",
     "output_type": "stream",
     "text": [
      "Whoistheprimeministerofindia\n"
     ]
    }
   ],
   "source": [
    "s = \"Who is the prime minister of india\"\n",
    "word = s.split()\n",
    "print(\"\".join(word))"
   ]
  },
  {
   "cell_type": "markdown",
   "id": "7d0f5924-34ca-400e-aaee-0e2b412608ba",
   "metadata": {},
   "source": [
    "### 8. Replace"
   ]
  },
  {
   "cell_type": "code",
   "execution_count": 27,
   "id": "55050014-021c-430a-a502-bac3e76e608a",
   "metadata": {},
   "outputs": [
    {
     "name": "stdout",
     "output_type": "stream",
     "text": [
      "i like apple\n"
     ]
    }
   ],
   "source": [
    "s = \"i like apple\"\n",
    "print(s.replace(\"apples\",\"oranges\"))"
   ]
  },
  {
   "cell_type": "markdown",
   "id": "b2c1aeb6-41c0-401f-9fcc-9a032add5ffa",
   "metadata": {},
   "source": [
    "### 9. Strip"
   ]
  },
  {
   "cell_type": "code",
   "execution_count": 28,
   "id": "2ba500b9-1106-4bc4-8b4e-525a496f0740",
   "metadata": {},
   "outputs": [
    {
     "name": "stdout",
     "output_type": "stream",
     "text": [
      "Hello\n"
     ]
    }
   ],
   "source": [
    "s = \"  Hello  \"\n",
    "print(s.strip())"
   ]
  },
  {
   "cell_type": "markdown",
   "id": "75c59a0c-d78a-4d56-a968-f2b8253e79f2",
   "metadata": {},
   "source": [
    "### Bonus Tips and Tricks\n",
    "#### Trick 1: Swap Variables Using Multiple Assignment"
   ]
  },
  {
   "cell_type": "code",
   "execution_count": 29,
   "id": "fda76b20-112f-4851-a226-0165f77bb21e",
   "metadata": {},
   "outputs": [
    {
     "name": "stdout",
     "output_type": "stream",
     "text": [
      "10 5\n"
     ]
    }
   ],
   "source": [
    "a, b = 5, 10\n",
    "a, b = b, a\n",
    "print(a,b)"
   ]
  },
  {
   "cell_type": "markdown",
   "id": "6f3d657b-9e5e-440e-af28-48e6c3c3e82e",
   "metadata": {},
   "source": [
    "### Trick 2: Reverse a String"
   ]
  },
  {
   "cell_type": "code",
   "execution_count": 30,
   "id": "7787c9dd-6700-4bda-badb-06125b7a9574",
   "metadata": {},
   "outputs": [
    {
     "name": "stdout",
     "output_type": "stream",
     "text": [
      "nohtyp\n"
     ]
    }
   ],
   "source": [
    "s  = \"python\"\n",
    "print(s[::-1])"
   ]
  },
  {
   "cell_type": "markdown",
   "id": "c0921dc4-6d00-4ce1-a520-df73c3b19744",
   "metadata": {},
   "source": [
    "### Trick 3: Check for Substring"
   ]
  },
  {
   "cell_type": "code",
   "execution_count": 31,
   "id": "a47a1a05-cf9d-43e1-914a-883b874ca71b",
   "metadata": {},
   "outputs": [
    {
     "name": "stdout",
     "output_type": "stream",
     "text": [
      "False\n"
     ]
    }
   ],
   "source": [
    "s = \"hello world\"\n",
    "print(\"World\" in s)"
   ]
  },
  {
   "cell_type": "code",
   "execution_count": null,
   "id": "c3ecf80f-7dc2-44e3-aa5a-f9d2d565edea",
   "metadata": {},
   "outputs": [],
   "source": []
  }
 ],
 "metadata": {
  "kernelspec": {
   "display_name": "Python 3 (ipykernel)",
   "language": "python",
   "name": "python3"
  },
  "language_info": {
   "codemirror_mode": {
    "name": "ipython",
    "version": 3
   },
   "file_extension": ".py",
   "mimetype": "text/x-python",
   "name": "python",
   "nbconvert_exporter": "python",
   "pygments_lexer": "ipython3",
   "version": "3.11.7"
  }
 },
 "nbformat": 4,
 "nbformat_minor": 5
}
