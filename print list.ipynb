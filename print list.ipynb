{
 "cells": [
  {
   "cell_type": "markdown",
   "id": "6193ff95-c548-4a5f-9dd8-cc21a61935b7",
   "metadata": {},
   "source": [
    "## print List"
   ]
  },
  {
   "cell_type": "markdown",
   "id": "bdc6eaf3-0592-4c0d-ab5e-11a8ecd47dfd",
   "metadata": {},
   "source": [
    "## Create List in pythom"
   ]
  },
  {
   "cell_type": "code",
   "execution_count": 1,
   "id": "bdbc6066-c25b-4981-90a9-a9b5aa15daaa",
   "metadata": {},
   "outputs": [],
   "source": [
    "# Empty list\n",
    "l = []"
   ]
  },
  {
   "cell_type": "code",
   "execution_count": 2,
   "id": "c4f6dfab-6bda-4455-a478-3e5ef7276743",
   "metadata": {},
   "outputs": [],
   "source": [
    "# Homogenous List\n",
    "l = [1,2,3,4]"
   ]
  },
  {
   "cell_type": "code",
   "execution_count": 3,
   "id": "cc9fb3c7-b335-4f5a-80f7-44030da2d6dc",
   "metadata": {},
   "outputs": [],
   "source": [
    "# Heterogenous List\n",
    "l = [1, \"hello\", 3.14]\n"
   ]
  },
  {
   "cell_type": "code",
   "execution_count": 5,
   "id": "3c9c5a45-8c22-493a-8845-32a06db9544f",
   "metadata": {},
   "outputs": [],
   "source": [
    "# Multidimensional list\n",
    "# 2D list\n",
    "l =  [1,2,[3,4],5]"
   ]
  },
  {
   "cell_type": "code",
   "execution_count": 6,
   "id": "104a6542-3e69-4652-a034-08f343a9174d",
   "metadata": {},
   "outputs": [],
   "source": [
    "# 3D list\n",
    "l = [1,[2,[3,4]]]"
   ]
  },
  {
   "cell_type": "code",
   "execution_count": 7,
   "id": "ff6af8ab-1fc6-41aa-9b46-72eaf57c3534",
   "metadata": {},
   "outputs": [],
   "source": [
    "# Using type conversion\n",
    "l = list(\"hello\")"
   ]
  },
  {
   "cell_type": "markdown",
   "id": "55bc6229-d120-4218-b6b8-247559773098",
   "metadata": {},
   "source": [
    "### Accessing Items from a list"
   ]
  },
  {
   "cell_type": "code",
   "execution_count": 8,
   "id": "fdd93dc4-6aed-496e-9096-9d788723d0b8",
   "metadata": {},
   "outputs": [
    {
     "data": {
      "text/plain": [
       "'h'"
      ]
     },
     "execution_count": 8,
     "metadata": {},
     "output_type": "execute_result"
    }
   ],
   "source": [
    "# first item\n",
    "l[0]"
   ]
  },
  {
   "cell_type": "code",
   "execution_count": 9,
   "id": "5a77316e-402c-4fe1-bc13-7c46f6217166",
   "metadata": {},
   "outputs": [
    {
     "data": {
      "text/plain": [
       "'o'"
      ]
     },
     "execution_count": 9,
     "metadata": {},
     "output_type": "execute_result"
    }
   ],
   "source": [
    "# last item\n",
    "l[-1]"
   ]
  },
  {
   "cell_type": "code",
   "execution_count": 10,
   "id": "e02a07fd-0109-4dc7-908c-f6ca348a9550",
   "metadata": {},
   "outputs": [
    {
     "data": {
      "text/plain": [
       "['e', 'l']"
      ]
     },
     "execution_count": 10,
     "metadata": {},
     "output_type": "execute_result"
    }
   ],
   "source": [
    "# slicing\n",
    "l[1:3]"
   ]
  },
  {
   "cell_type": "code",
   "execution_count": 11,
   "id": "f8d8c87f-87cc-412e-beb7-08ff2e426931",
   "metadata": {},
   "outputs": [
    {
     "data": {
      "text/plain": [
       "['o', 'l', 'l', 'e', 'h']"
      ]
     },
     "execution_count": 11,
     "metadata": {},
     "output_type": "execute_result"
    }
   ],
   "source": [
    "# reversing a list\n",
    "l [:: -1]"
   ]
  },
  {
   "cell_type": "markdown",
   "id": "a2affc2a-2225-48cc-aff2-3cb4a6dfa34f",
   "metadata": {},
   "source": [
    "### Editing  items in a list"
   ]
  },
  {
   "cell_type": "code",
   "execution_count": 12,
   "id": "f8131974-f7fb-4bd3-90f0-e50c678d75a6",
   "metadata": {},
   "outputs": [],
   "source": [
    "# change an item\n",
    "l[0] = 100\n"
   ]
  },
  {
   "cell_type": "code",
   "execution_count": 13,
   "id": "c0917769-9dfd-4156-8cc6-3e13b4017416",
   "metadata": {},
   "outputs": [],
   "source": [
    "# using slicing \n",
    "l[1:4] = [200,300,400]"
   ]
  },
  {
   "cell_type": "markdown",
   "id": "eca328f1-7abc-4090-a3ae-0daa6d2d361c",
   "metadata": {},
   "source": [
    "### Adding Items to a list"
   ]
  },
  {
   "cell_type": "code",
   "execution_count": 14,
   "id": "44c3f0f0-3556-4295-8307-e20f85e07daf",
   "metadata": {},
   "outputs": [],
   "source": [
    "# append\n",
    "l.append(1000)"
   ]
  },
  {
   "cell_type": "code",
   "execution_count": 15,
   "id": "2c0759d2-2304-468c-a508-4eaa1d9bed56",
   "metadata": {},
   "outputs": [],
   "source": [
    "# extend\n",
    "l.extend([2000,3000])"
   ]
  },
  {
   "cell_type": "code",
   "execution_count": 16,
   "id": "0c5fd51e-c1d6-4013-bd4d-0750b88aff16",
   "metadata": {},
   "outputs": [],
   "source": [
    "# insert\n",
    "l.insert(1,\"world\")"
   ]
  },
  {
   "cell_type": "markdown",
   "id": "8883c753-44c5-4194-975e-29cd658f29e1",
   "metadata": {},
   "source": [
    "## Deleting items from a list"
   ]
  },
  {
   "cell_type": "code",
   "execution_count": 17,
   "id": "2f54321e-f782-403f-be0b-6db84d0f5796",
   "metadata": {},
   "outputs": [],
   "source": [
    "# del keyword\n",
    "del l[0]"
   ]
  },
  {
   "cell_type": "code",
   "execution_count": 18,
   "id": "dc8a64a6-80fc-4d23-a9e2-4f9c2ebb5804",
   "metadata": {},
   "outputs": [
    {
     "ename": "ValueError",
     "evalue": "list.remove(x): x not in list",
     "output_type": "error",
     "traceback": [
      "\u001b[1;31m---------------------------------------------------------------------------\u001b[0m",
      "\u001b[1;31mValueError\u001b[0m                                Traceback (most recent call last)",
      "Cell \u001b[1;32mIn[18], line 2\u001b[0m\n\u001b[0;32m      1\u001b[0m \u001b[38;5;66;03m# remove\u001b[39;00m\n\u001b[1;32m----> 2\u001b[0m l\u001b[38;5;241m.\u001b[39mremove(\u001b[38;5;124m\"\u001b[39m\u001b[38;5;124mhello\u001b[39m\u001b[38;5;124m\"\u001b[39m)\n",
      "\u001b[1;31mValueError\u001b[0m: list.remove(x): x not in list"
     ]
    }
   ],
   "source": [
    "# remove\n",
    "l.remove(\"hello\")"
   ]
  },
  {
   "cell_type": "code",
   "execution_count": 19,
   "id": "a0a4d451-c9c6-4f71-8de7-f3ef940db389",
   "metadata": {},
   "outputs": [
    {
     "data": {
      "text/plain": [
       "3000"
      ]
     },
     "execution_count": 19,
     "metadata": {},
     "output_type": "execute_result"
    }
   ],
   "source": [
    "# pop\n",
    "l.pop()"
   ]
  },
  {
   "cell_type": "code",
   "execution_count": 20,
   "id": "8c8d36ce-8356-46c5-8893-918e03eadc33",
   "metadata": {},
   "outputs": [],
   "source": [
    "# clear\n",
    "l.clear()"
   ]
  },
  {
   "cell_type": "markdown",
   "id": "f141f081-70d0-4afe-b9bf-f1b48dcfce5d",
   "metadata": {},
   "source": [
    "## Operations on list"
   ]
  },
  {
   "cell_type": "code",
   "execution_count": 22,
   "id": "85e32bfd-b022-46a1-80ac-8e3601a1686e",
   "metadata": {},
   "outputs": [],
   "source": [
    "# Concatenation\n",
    "#l + l1"
   ]
  },
  {
   "cell_type": "code",
   "execution_count": 24,
   "id": "715a293d-d5b6-4adb-89eb-087ed5f8f4bd",
   "metadata": {},
   "outputs": [
    {
     "data": {
      "text/plain": [
       "[]"
      ]
     },
     "execution_count": 24,
     "metadata": {},
     "output_type": "execute_result"
    }
   ],
   "source": [
    "# repetition\n",
    "l*3"
   ]
  },
  {
   "cell_type": "code",
   "execution_count": 25,
   "id": "e3ed838e-d967-4e4f-a078-b17261db349d",
   "metadata": {},
   "outputs": [
    {
     "data": {
      "text/plain": [
       "False"
      ]
     },
     "execution_count": 25,
     "metadata": {},
     "output_type": "execute_result"
    }
   ],
   "source": [
    "# membership testing\n",
    "4 in l"
   ]
  },
  {
   "cell_type": "code",
   "execution_count": 26,
   "id": "12845fff-ad42-4190-8ea3-e5d0846a2a26",
   "metadata": {},
   "outputs": [],
   "source": [
    "# iteration\n",
    "for item in l:\n",
    "    print(item)"
   ]
  },
  {
   "cell_type": "markdown",
   "id": "e4794710-27ea-4fd4-85cc-d576d0c379a4",
   "metadata": {},
   "source": [
    "### Function Available for list"
   ]
  },
  {
   "cell_type": "code",
   "execution_count": 27,
   "id": "b8debf2c-e50d-4ff2-aac5-4bb00e7b092c",
   "metadata": {},
   "outputs": [
    {
     "data": {
      "text/plain": [
       "0"
      ]
     },
     "execution_count": 27,
     "metadata": {},
     "output_type": "execute_result"
    }
   ],
   "source": [
    "len(l)"
   ]
  },
  {
   "cell_type": "code",
   "execution_count": 30,
   "id": "3569dc37-2c00-4658-938e-890fbefbb785",
   "metadata": {},
   "outputs": [],
   "source": [
    "# min(l)"
   ]
  },
  {
   "cell_type": "code",
   "execution_count": null,
   "id": "03046e1b-b259-4582-b462-c04d617f6ed0",
   "metadata": {},
   "outputs": [],
   "source": [
    "max()"
   ]
  }
 ],
 "metadata": {
  "kernelspec": {
   "display_name": "Python 3 (ipykernel)",
   "language": "python",
   "name": "python3"
  },
  "language_info": {
   "codemirror_mode": {
    "name": "ipython",
    "version": 3
   },
   "file_extension": ".py",
   "mimetype": "text/x-python",
   "name": "python",
   "nbconvert_exporter": "python",
   "pygments_lexer": "ipython3",
   "version": "3.11.7"
  }
 },
 "nbformat": 4,
 "nbformat_minor": 5
}
