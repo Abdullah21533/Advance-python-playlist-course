{
 "cells": [
  {
   "cell_type": "markdown",
   "id": "3d865da7-ed84-425b-b243-8e421acabe36",
   "metadata": {},
   "source": [
    "# Numeric Literals"
   ]
  },
  {
   "cell_type": "markdown",
   "id": "4e777276-6cac-4016-9e0a-0cbae5129f91",
   "metadata": {},
   "source": [
    "### 1.Integer literals:"
   ]
  },
  {
   "cell_type": "code",
   "execution_count": 2,
   "id": "b9bc0f1e-a164-4fb1-8c22-0724e0117ca6",
   "metadata": {},
   "outputs": [
    {
     "name": "stdout",
     "output_type": "stream",
     "text": [
      "100 10 100 100\n"
     ]
    }
   ],
   "source": [
    "a= 100 # Decimal literal\n",
    "b = 0b1010 # Binary literals (10 in decimal)\n",
    "c = 0x64 # Hexadecimal literals (100 in decimal)\n",
    "d = 0o144 # Octal literal (100 in decimal)\n",
    "print(a,b,c,d) "
   ]
  },
  {
   "cell_type": "markdown",
   "id": "7159777b-7721-4f16-b48a-62c85eb94297",
   "metadata": {},
   "source": [
    "### 2.float Literals:"
   ]
  },
  {
   "cell_type": "code",
   "execution_count": 4,
   "id": "6177d5da-bce5-4da7-a46e-9cd650381e35",
   "metadata": {},
   "outputs": [
    {
     "name": "stdout",
     "output_type": "stream",
     "text": [
      "10.5 150.0 0.0015\n"
     ]
    }
   ],
   "source": [
    "f1 = 10.5 # Decimal float\n",
    "f2 = 1.5e2 # Scientific notation (1.5*10^2)\n",
    "f3 = 1.5e-3 # Scientific notation( 1.5 * 10^-3)\n",
    "print(f1,f2,f3)"
   ]
  },
  {
   "cell_type": "markdown",
   "id": "70f97448-5941-46cc-9913-834ec4737fa5",
   "metadata": {},
   "source": [
    "### Comlex Literals:\n"
   ]
  },
  {
   "cell_type": "code",
   "execution_count": 5,
   "id": "44401909-45a9-4511-bcdb-08a6a23d89dc",
   "metadata": {},
   "outputs": [
    {
     "name": "stdout",
     "output_type": "stream",
     "text": [
      "(3+4j) 3.0 4.0\n"
     ]
    }
   ],
   "source": [
    "x = 3+ 4j # Complex\n",
    "print(x, x.real, x.imag)"
   ]
  },
  {
   "cell_type": "markdown",
   "id": "75e854b3-acaa-4af7-b24d-03a78ec0b71f",
   "metadata": {},
   "source": [
    "## String literals:"
   ]
  },
  {
   "cell_type": "markdown",
   "id": "28d5e188-067f-40d7-a819-3b1f624eb1b7",
   "metadata": {},
   "source": [
    "### 1. single Quotes:"
   ]
  },
  {
   "cell_type": "code",
   "execution_count": 6,
   "id": "e88dfb44-2e40-4530-8872-20e84c88dbd0",
   "metadata": {},
   "outputs": [
    {
     "name": "stdout",
     "output_type": "stream",
     "text": [
      "Hello\n"
     ]
    }
   ],
   "source": [
    "str1 = 'Hello'\n",
    "print(str1)"
   ]
  },
  {
   "cell_type": "markdown",
   "id": "4bcf2986-60dd-497b-aea6-7d1c049d0588",
   "metadata": {},
   "source": [
    "### 2. Double Quotes:\n"
   ]
  },
  {
   "cell_type": "code",
   "execution_count": 7,
   "id": "b228b947-77f7-4896-b91a-6b25deea8318",
   "metadata": {},
   "outputs": [
    {
     "name": "stdout",
     "output_type": "stream",
     "text": [
      "world\n"
     ]
    }
   ],
   "source": [
    "str2 = \"world\"\n",
    "print(str2)"
   ]
  },
  {
   "cell_type": "markdown",
   "id": "63ddcb72-231f-4beb-a1f2-597921bada8f",
   "metadata": {},
   "source": [
    "### 3. Triple Quotes:"
   ]
  },
  {
   "cell_type": "code",
   "execution_count": 8,
   "id": "94fb4325-29a0-420c-8e55-16f750b7a143",
   "metadata": {},
   "outputs": [
    {
     "name": "stdout",
     "output_type": "stream",
     "text": [
      "This is a \n",
      "multiline string\n"
     ]
    }
   ],
   "source": [
    "str3 = '''This is a \n",
    "multiline string'''\n",
    "print(str3)"
   ]
  },
  {
   "cell_type": "markdown",
   "id": "269d8147-e648-42f0-9c20-cb54d2a31d8b",
   "metadata": {},
   "source": [
    "### 4. Unicode Strings:\n"
   ]
  },
  {
   "cell_type": "code",
   "execution_count": 9,
   "id": "5eb65160-7b5e-4103-a5a6-0e43d7841c3f",
   "metadata": {},
   "outputs": [
    {
     "name": "stdout",
     "output_type": "stream",
     "text": [
      "☺\n"
     ]
    }
   ],
   "source": [
    "str4 = u'\\u263A'\n",
    "print(str4)"
   ]
  },
  {
   "cell_type": "markdown",
   "id": "d2722688-a48c-462a-bf11-4d68e45dc441",
   "metadata": {},
   "source": [
    "### 5. Raw Strings:"
   ]
  },
  {
   "cell_type": "code",
   "execution_count": 13,
   "id": "66ac6ae9-1744-4baa-9edd-3d799794df80",
   "metadata": {},
   "outputs": [
    {
     "name": "stdout",
     "output_type": "stream",
     "text": [
      "c:\\new\\folder\n"
     ]
    }
   ],
   "source": [
    "str5 = r'c:\\new\\folder'\n",
    "print(str5)"
   ]
  },
  {
   "cell_type": "markdown",
   "id": "caebf8aa-7a2f-417a-b7f5-89645a166965",
   "metadata": {},
   "source": [
    "## Boolean Literals"
   ]
  },
  {
   "cell_type": "code",
   "execution_count": 14,
   "id": "2d422f8e-6305-4e12-8c9f-eeb5fbbec820",
   "metadata": {},
   "outputs": [
    {
     "name": "stdout",
     "output_type": "stream",
     "text": [
      "True False\n"
     ]
    }
   ],
   "source": [
    "is_true = True\n",
    "is_false = False\n",
    "print(is_true, is_false)"
   ]
  },
  {
   "cell_type": "code",
   "execution_count": 15,
   "id": "a73d26af-2d38-43cd-b2f2-91dbdebb037c",
   "metadata": {},
   "outputs": [
    {
     "name": "stdout",
     "output_type": "stream",
     "text": [
      "5 10\n"
     ]
    }
   ],
   "source": [
    "a = True + 4\n",
    "b = False + 10\n",
    "print(a,b)"
   ]
  },
  {
   "cell_type": "markdown",
   "id": "83d70693-121b-4f4a-93d0-d40b2cb1e082",
   "metadata": {},
   "source": [
    "### Special Literals"
   ]
  },
  {
   "cell_type": "code",
   "execution_count": 17,
   "id": "c41b1717-2821-4f23-bd13-4de8ab18bd0f",
   "metadata": {},
   "outputs": [
    {
     "name": "stdout",
     "output_type": "stream",
     "text": [
      "None\n"
     ]
    }
   ],
   "source": [
    "none_value = None\n",
    "print(none_value)"
   ]
  },
  {
   "cell_type": "code",
   "execution_count": 18,
   "id": "28b941f1-af60-40a1-aa2d-1dee57924e7c",
   "metadata": {},
   "outputs": [
    {
     "name": "stdout",
     "output_type": "stream",
     "text": [
      "42\n"
     ]
    }
   ],
   "source": [
    "result = None\n",
    "# some code that assign a value to result\n",
    "result = 42 \n",
    "print(result)"
   ]
  },
  {
   "cell_type": "code",
   "execution_count": null,
   "id": "99841da6-4454-4161-a20d-d9a20b826d44",
   "metadata": {},
   "outputs": [],
   "source": []
  }
 ],
 "metadata": {
  "kernelspec": {
   "display_name": "Python 3 (ipykernel)",
   "language": "python",
   "name": "python3"
  },
  "language_info": {
   "codemirror_mode": {
    "name": "ipython",
    "version": 3
   },
   "file_extension": ".py",
   "mimetype": "text/x-python",
   "name": "python",
   "nbconvert_exporter": "python",
   "pygments_lexer": "ipython3",
   "version": "3.11.7"
  }
 },
 "nbformat": 4,
 "nbformat_minor": 5
}
