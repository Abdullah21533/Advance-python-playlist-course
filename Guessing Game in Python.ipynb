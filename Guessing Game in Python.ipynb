{
 "cells": [
  {
   "cell_type": "markdown",
   "id": "1ceaa2fb-60ac-496c-ad16-70b015db9a6e",
   "metadata": {},
   "source": [
    "# Guessing Game in Python"
   ]
  },
  {
   "cell_type": "markdown",
   "id": "9bf703fc-eb96-4cd9-bacc-92945064ddd2",
   "metadata": {},
   "source": [
    "### Step-by-Step Guide\n",
    "### 1. Generate a Random Number"
   ]
  },
  {
   "cell_type": "code",
   "execution_count": 6,
   "id": "af8002ab-09d4-475c-8b99-abd221c09f0e",
   "metadata": {},
   "outputs": [],
   "source": [
    "import random\n",
    "\n",
    "# Generate a random number between 1 and 100\n",
    "jactkpot = random.randint(1,100)"
   ]
  },
  {
   "cell_type": "markdown",
   "id": "d915e70c-c800-480b-b85c-e963a87179fd",
   "metadata": {},
   "source": [
    "### 2. Get User Input"
   ]
  },
  {
   "cell_type": "code",
   "execution_count": 7,
   "id": "1937a0d6-3b14-4c8d-b0f5-37a3aa4659ff",
   "metadata": {},
   "outputs": [
    {
     "name": "stdin",
     "output_type": "stream",
     "text": [
      "Guess the number:  5\n"
     ]
    }
   ],
   "source": [
    "guess = int(input(\"Guess the number: \"))\n"
   ]
  },
  {
   "cell_type": "markdown",
   "id": "3c63fa0f-ce22-4d9f-884b-96527e21f9df",
   "metadata": {},
   "source": [
    "### 3. Compare the Guess"
   ]
  },
  {
   "cell_type": "code",
   "execution_count": 8,
   "id": "e86ad449-7bc1-49b8-b147-50c3c74d43d8",
   "metadata": {},
   "outputs": [
    {
     "name": "stdout",
     "output_type": "stream",
     "text": [
      "Guess higher.\n"
     ]
    },
    {
     "name": "stdin",
     "output_type": "stream",
     "text": [
      "Guess again:  20\n"
     ]
    },
    {
     "name": "stdout",
     "output_type": "stream",
     "text": [
      "Guess higher.\n"
     ]
    },
    {
     "name": "stdin",
     "output_type": "stream",
     "text": [
      "Guess again:  3\n"
     ]
    },
    {
     "name": "stdout",
     "output_type": "stream",
     "text": [
      "Guess higher.\n"
     ]
    },
    {
     "name": "stdin",
     "output_type": "stream",
     "text": [
      "Guess again:  80\n"
     ]
    },
    {
     "name": "stdout",
     "output_type": "stream",
     "text": [
      "Guess lower.\n"
     ]
    },
    {
     "name": "stdin",
     "output_type": "stream",
     "text": [
      "Guess again:  70\n"
     ]
    },
    {
     "name": "stdout",
     "output_type": "stream",
     "text": [
      "Guess lower.\n"
     ]
    },
    {
     "name": "stdin",
     "output_type": "stream",
     "text": [
      "Guess again:  50\n"
     ]
    },
    {
     "name": "stdout",
     "output_type": "stream",
     "text": [
      "Correct! you took 6 attempts.\n"
     ]
    }
   ],
   "source": [
    "# initialize attempt counter\n",
    "attempts = 1\n",
    "\n",
    "while guess != jackpot:\n",
    "    if guess < jackpot:\n",
    "        print(\"Guess higher.\")\n",
    "    else:\n",
    "        print(\"Guess lower.\")\n",
    "    # Get a new guess from the user\n",
    "    guess = int(input(\"Guess again: \"))\n",
    "    attempts += 1\n",
    "\n",
    "# if the guess is correct\n",
    "print(f\"Correct! you took {attempts} attempts.\")\n",
    "\n"
   ]
  },
  {
   "cell_type": "markdown",
   "id": "c83b0485-7b1c-44fc-bdea-12b29c39b2d5",
   "metadata": {},
   "source": [
    "### Example for Kids"
   ]
  },
  {
   "cell_type": "code",
   "execution_count": 9,
   "id": "3587cdef-dab8-4333-8d1d-25819d1826d0",
   "metadata": {},
   "outputs": [
    {
     "name": "stdin",
     "output_type": "stream",
     "text": [
      "Guess the number:  20\n"
     ]
    },
    {
     "name": "stdout",
     "output_type": "stream",
     "text": [
      "Guess higher.\n"
     ]
    },
    {
     "name": "stdin",
     "output_type": "stream",
     "text": [
      "Guess again:  60\n"
     ]
    },
    {
     "name": "stdout",
     "output_type": "stream",
     "text": [
      "Guess lower.\n"
     ]
    },
    {
     "name": "stdin",
     "output_type": "stream",
     "text": [
      "Guess again:  50\n"
     ]
    },
    {
     "name": "stdout",
     "output_type": "stream",
     "text": [
      "Correct! you took 3 attempts.\n"
     ]
    }
   ],
   "source": [
    "import random\n",
    "\n",
    "# Step 1 : Generate the magic number\n",
    "jactkpot = random.randint(1,100)\n",
    "\n",
    "# Step 2: Ask for the first guess\n",
    "guess = int(input(\"Guess the number: \"))\n",
    "\n",
    "# Step 3: Initialize the attempt counter\n",
    "attempts = 1\n",
    "\n",
    "# Step 4: Keep giving hints until the correct guess\n",
    "while guess != jackpot:\n",
    "    if guess < jackpot:\n",
    "        print(\"Guess higher.\")\n",
    "    else:\n",
    "        print(\"Guess lower.\")\n",
    "    # Ask for new guess\n",
    "    guess = int(input(\"Guess again: \"))\n",
    "    attempts += 1\n",
    "\n",
    "# Step 5: Celebrate the win\n",
    "print(f\"Correct! you took {attempts} attempts.\")\n"
   ]
  },
  {
   "cell_type": "code",
   "execution_count": null,
   "id": "4d0c3712-b247-4ee2-9ea0-d61c2ed19ba3",
   "metadata": {},
   "outputs": [],
   "source": []
  }
 ],
 "metadata": {
  "kernelspec": {
   "display_name": "Python 3 (ipykernel)",
   "language": "python",
   "name": "python3"
  },
  "language_info": {
   "codemirror_mode": {
    "name": "ipython",
    "version": 3
   },
   "file_extension": ".py",
   "mimetype": "text/x-python",
   "name": "python",
   "nbconvert_exporter": "python",
   "pygments_lexer": "ipython3",
   "version": "3.11.7"
  }
 },
 "nbformat": 4,
 "nbformat_minor": 5
}
