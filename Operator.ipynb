{
 "cells": [
  {
   "cell_type": "markdown",
   "id": "032d0ca6-d3b7-44f2-bc5f-040e6e6ddf74",
   "metadata": {},
   "source": [
    "# Operators in Python Programming"
   ]
  },
  {
   "cell_type": "markdown",
   "id": "d2454bdc-c115-4aa0-aea7-c72bf451dda3",
   "metadata": {},
   "source": [
    "## Arithmetic Operators"
   ]
  },
  {
   "cell_type": "code",
   "execution_count": 6,
   "id": "29e688a0-0485-43e6-a213-1cb860d9603e",
   "metadata": {},
   "outputs": [],
   "source": [
    "x = 5 \n",
    "y = 2"
   ]
  },
  {
   "cell_type": "markdown",
   "id": "e1e8e887-f81b-420b-82a8-2989802de438",
   "metadata": {},
   "source": [
    "### 1.Addition:"
   ]
  },
  {
   "cell_type": "code",
   "execution_count": 8,
   "id": "5b242f29-df4b-4659-bd00-1c238f399ee4",
   "metadata": {},
   "outputs": [
    {
     "name": "stdout",
     "output_type": "stream",
     "text": [
      "7\n"
     ]
    }
   ],
   "source": [
    "result = x + y\n",
    "print(result)"
   ]
  },
  {
   "cell_type": "markdown",
   "id": "ed3f4f9b-fd7f-468e-9f6e-35a81d1d4ebf",
   "metadata": {},
   "source": [
    "### 2.Subtraction:"
   ]
  },
  {
   "cell_type": "code",
   "execution_count": 9,
   "id": "0592d276-b2e0-4dcc-b163-994b6de28778",
   "metadata": {},
   "outputs": [
    {
     "name": "stdout",
     "output_type": "stream",
     "text": [
      "3\n"
     ]
    }
   ],
   "source": [
    "result = x - y\n",
    "print(result)"
   ]
  },
  {
   "cell_type": "markdown",
   "id": "391b2ff6-9217-4cd3-9a5b-cebf585b829c",
   "metadata": {},
   "source": [
    "### 3.Multiplication:"
   ]
  },
  {
   "cell_type": "code",
   "execution_count": 10,
   "id": "dc76afd5-3b45-4ff7-8624-8295dd8f850f",
   "metadata": {},
   "outputs": [
    {
     "name": "stdout",
     "output_type": "stream",
     "text": [
      "10\n"
     ]
    }
   ],
   "source": [
    "result = x * y\n",
    "print(result)"
   ]
  },
  {
   "cell_type": "markdown",
   "id": "4bdc6f0e-62a5-4b8d-aff7-411280f5aab0",
   "metadata": {},
   "source": [
    "### 4.Division:"
   ]
  },
  {
   "cell_type": "code",
   "execution_count": 11,
   "id": "b45bf886-6e61-4282-ab0e-04be16669a23",
   "metadata": {},
   "outputs": [
    {
     "name": "stdout",
     "output_type": "stream",
     "text": [
      "2.5\n"
     ]
    }
   ],
   "source": [
    "result = x / y\n",
    "print(result)"
   ]
  },
  {
   "cell_type": "markdown",
   "id": "eda7daab-be68-4e8f-9970-6d7e115bb248",
   "metadata": {},
   "source": [
    "### 5.Modulus (remainder):"
   ]
  },
  {
   "cell_type": "code",
   "execution_count": 12,
   "id": "a6298953-a5d6-4f92-a0d7-6ca9827a12c3",
   "metadata": {},
   "outputs": [
    {
     "name": "stdout",
     "output_type": "stream",
     "text": [
      "1\n"
     ]
    }
   ],
   "source": [
    "result = x % y\n",
    "print(result)"
   ]
  },
  {
   "cell_type": "markdown",
   "id": "96fb4795-0925-4e09-9fc1-ae42dc032213",
   "metadata": {},
   "source": [
    "### 6.Exponentiation:"
   ]
  },
  {
   "cell_type": "code",
   "execution_count": 13,
   "id": "1397aad2-43e1-4c08-9b6d-37550ebbcbc9",
   "metadata": {},
   "outputs": [
    {
     "name": "stdout",
     "output_type": "stream",
     "text": [
      "25\n"
     ]
    }
   ],
   "source": [
    "result = x ** y\n",
    "print(result)"
   ]
  },
  {
   "cell_type": "markdown",
   "id": "b5aea6e8-02e1-4073-99b3-d510e9bb77fa",
   "metadata": {},
   "source": [
    "### 7.Floor Division:"
   ]
  },
  {
   "cell_type": "code",
   "execution_count": 14,
   "id": "f7401b05-1155-478a-89d2-68b3b746347c",
   "metadata": {},
   "outputs": [
    {
     "name": "stdout",
     "output_type": "stream",
     "text": [
      "2\n"
     ]
    }
   ],
   "source": [
    "result = x // y\n",
    "print(result)"
   ]
  },
  {
   "cell_type": "markdown",
   "id": "d2b3c0d4-1a78-4ae0-8268-540ee14544d1",
   "metadata": {},
   "source": [
    "## Comparison Operators"
   ]
  },
  {
   "cell_type": "markdown",
   "id": "c9196736-4214-4f91-89ab-ac06eb77a8e1",
   "metadata": {},
   "source": [
    "### 1.Greater Than:"
   ]
  },
  {
   "cell_type": "code",
   "execution_count": 15,
   "id": "3d95506f-8753-41a3-a8a7-5462ddf73bb4",
   "metadata": {},
   "outputs": [
    {
     "name": "stdout",
     "output_type": "stream",
     "text": [
      "True\n"
     ]
    }
   ],
   "source": [
    "print(x > y)\n"
   ]
  },
  {
   "cell_type": "markdown",
   "id": "05a6a009-b1ac-4959-90e4-e55a8e7f03df",
   "metadata": {},
   "source": [
    "### 2.Less Than:"
   ]
  },
  {
   "cell_type": "code",
   "execution_count": 16,
   "id": "96207b80-564b-456b-a93e-60f3d4f875ac",
   "metadata": {},
   "outputs": [
    {
     "name": "stdout",
     "output_type": "stream",
     "text": [
      "False\n"
     ]
    }
   ],
   "source": [
    "print(x < y)"
   ]
  },
  {
   "cell_type": "markdown",
   "id": "3037f464-0d00-42df-b567-bb3dc5b44599",
   "metadata": {},
   "source": [
    "### 3.Greater Than or Equal To:"
   ]
  },
  {
   "cell_type": "code",
   "execution_count": 17,
   "id": "9ffe2953-65a5-4812-a43d-ff54a16949dc",
   "metadata": {},
   "outputs": [
    {
     "name": "stdout",
     "output_type": "stream",
     "text": [
      "True\n"
     ]
    }
   ],
   "source": [
    "print(x >= y)"
   ]
  },
  {
   "cell_type": "markdown",
   "id": "baf0149b-cfc3-4a3d-be93-8186c6d7dfe5",
   "metadata": {},
   "source": [
    "### 4.Less Than or Equal To:"
   ]
  },
  {
   "cell_type": "code",
   "execution_count": 18,
   "id": "a6e7a9ba-0f3f-42a0-9b2a-ecd536269e7b",
   "metadata": {},
   "outputs": [
    {
     "name": "stdout",
     "output_type": "stream",
     "text": [
      "False\n"
     ]
    }
   ],
   "source": [
    "print(x <= y)"
   ]
  },
  {
   "cell_type": "markdown",
   "id": "9c86cc89-1fed-4886-899d-32924b0151cb",
   "metadata": {},
   "source": [
    "### 5.Equal To:"
   ]
  },
  {
   "cell_type": "code",
   "execution_count": 19,
   "id": "8e0601f4-4697-48f7-8426-36eab95e0f62",
   "metadata": {},
   "outputs": [
    {
     "name": "stdout",
     "output_type": "stream",
     "text": [
      "False\n"
     ]
    }
   ],
   "source": [
    "print(x == y)"
   ]
  },
  {
   "cell_type": "markdown",
   "id": "01883199-2921-4740-97af-4e2884b063e3",
   "metadata": {},
   "source": [
    "### 6.Not Equal To:"
   ]
  },
  {
   "cell_type": "code",
   "execution_count": 20,
   "id": "993e4d86-d616-4400-8786-6de70fffa75c",
   "metadata": {},
   "outputs": [
    {
     "name": "stdout",
     "output_type": "stream",
     "text": [
      "True\n"
     ]
    }
   ],
   "source": [
    "print(x != y)"
   ]
  },
  {
   "cell_type": "markdown",
   "id": "f5484619-a75c-439e-9c59-7615718a6f64",
   "metadata": {},
   "source": [
    "## Logical Operators "
   ]
  },
  {
   "cell_type": "markdown",
   "id": "36c6e2fa-1196-4a1c-8926-b935630ee281",
   "metadata": {},
   "source": [
    "### 1.AND:"
   ]
  },
  {
   "cell_type": "code",
   "execution_count": 21,
   "id": "624c0ff4-eadd-4364-acbc-880f93fa405f",
   "metadata": {},
   "outputs": [
    {
     "name": "stdout",
     "output_type": "stream",
     "text": [
      "True\n"
     ]
    }
   ],
   "source": [
    "print(x > 1 and y < 10)"
   ]
  },
  {
   "cell_type": "markdown",
   "id": "169a2814-34e5-4404-873f-e407a8f51db7",
   "metadata": {},
   "source": [
    "### 2.OR:"
   ]
  },
  {
   "cell_type": "code",
   "execution_count": 22,
   "id": "cc106787-18c4-4743-9053-0018f397b990",
   "metadata": {},
   "outputs": [
    {
     "name": "stdout",
     "output_type": "stream",
     "text": [
      "True\n"
     ]
    }
   ],
   "source": [
    "print(x < 1 or y < 10)"
   ]
  },
  {
   "cell_type": "markdown",
   "id": "f5e5e34f-c2b6-4abf-b787-eb8db868bbe3",
   "metadata": {},
   "source": [
    "### 3.NOT:"
   ]
  },
  {
   "cell_type": "code",
   "execution_count": 23,
   "id": "5eb455ea-d234-419e-8c56-e253964a98d5",
   "metadata": {},
   "outputs": [
    {
     "name": "stdout",
     "output_type": "stream",
     "text": [
      "False\n"
     ]
    }
   ],
   "source": [
    "print(not(x > y))"
   ]
  },
  {
   "cell_type": "markdown",
   "id": "a8506548-454f-4c55-8357-8b9361c8aee2",
   "metadata": {},
   "source": [
    "## Bitwise Operators\n"
   ]
  },
  {
   "cell_type": "markdown",
   "id": "a0461e47-bee5-401e-9ca2-a3392356975a",
   "metadata": {},
   "source": [
    "### 1.Bitwise AND:"
   ]
  },
  {
   "cell_type": "code",
   "execution_count": 24,
   "id": "58dfe6f0-da52-4758-b057-3603ec6651a0",
   "metadata": {},
   "outputs": [
    {
     "name": "stdout",
     "output_type": "stream",
     "text": [
      "0\n"
     ]
    }
   ],
   "source": [
    "print(x & y)"
   ]
  },
  {
   "cell_type": "markdown",
   "id": "6fa3dd9b-b920-4753-a925-de2b137909ff",
   "metadata": {},
   "source": [
    "### 2.Bitwise OR:"
   ]
  },
  {
   "cell_type": "code",
   "execution_count": 25,
   "id": "dc1c20cc-1abd-4f88-aa73-bd3a2b839459",
   "metadata": {},
   "outputs": [
    {
     "name": "stdout",
     "output_type": "stream",
     "text": [
      "7\n"
     ]
    }
   ],
   "source": [
    "print(x | y)"
   ]
  },
  {
   "cell_type": "markdown",
   "id": "3d6390fa-eb6d-40ce-b343-4530520b0436",
   "metadata": {},
   "source": [
    "### 3.Bitwise XOR:"
   ]
  },
  {
   "cell_type": "code",
   "execution_count": 26,
   "id": "6afc3ca6-2e94-4c10-bf05-403309392a6d",
   "metadata": {},
   "outputs": [
    {
     "name": "stdout",
     "output_type": "stream",
     "text": [
      "7\n"
     ]
    }
   ],
   "source": [
    "print(x ^ y)"
   ]
  },
  {
   "cell_type": "markdown",
   "id": "14496c99-cdff-414a-8b9c-d354dea4c221",
   "metadata": {},
   "source": [
    "### 4.Bitwise NOT:"
   ]
  },
  {
   "cell_type": "code",
   "execution_count": 27,
   "id": "4a9f849b-8f3b-4445-85ae-baa05014daaa",
   "metadata": {},
   "outputs": [
    {
     "name": "stdout",
     "output_type": "stream",
     "text": [
      "-6\n"
     ]
    }
   ],
   "source": [
    "print(~x)"
   ]
  },
  {
   "cell_type": "markdown",
   "id": "e8e385cc-1de5-4832-bad7-1201b7fef159",
   "metadata": {},
   "source": [
    "### 5. Bitwise Shift Left:"
   ]
  },
  {
   "cell_type": "code",
   "execution_count": 28,
   "id": "be660358-4106-4484-82fd-2d6bb19a0a3e",
   "metadata": {},
   "outputs": [
    {
     "name": "stdout",
     "output_type": "stream",
     "text": [
      "10\n"
     ]
    }
   ],
   "source": [
    "print(x << 1)"
   ]
  },
  {
   "cell_type": "markdown",
   "id": "9bd5e733-1f87-47f2-aff9-89c7104b2520",
   "metadata": {},
   "source": [
    "### 6.Bitwise Shift Right:"
   ]
  },
  {
   "cell_type": "code",
   "execution_count": 29,
   "id": "bede5d7a-d5fb-4f47-93e7-6eefdf211ce0",
   "metadata": {},
   "outputs": [
    {
     "name": "stdout",
     "output_type": "stream",
     "text": [
      "2\n"
     ]
    }
   ],
   "source": [
    "print(x >> 1)"
   ]
  },
  {
   "cell_type": "markdown",
   "id": "8322cb53-af9d-4ce5-a993-07b8ce91f4ae",
   "metadata": {},
   "source": [
    "### Assignment Operators"
   ]
  },
  {
   "cell_type": "markdown",
   "id": "a056ef89-46fa-4846-aa05-1aa771971a1e",
   "metadata": {},
   "source": [
    "### 1.Simple Assignment:"
   ]
  },
  {
   "cell_type": "code",
   "execution_count": 30,
   "id": "91fc5e35-9ea9-4801-9297-ad782a6e8ad4",
   "metadata": {},
   "outputs": [
    {
     "name": "stdout",
     "output_type": "stream",
     "text": [
      "3\n"
     ]
    }
   ],
   "source": [
    "a = 3\n",
    "print(a)"
   ]
  },
  {
   "cell_type": "markdown",
   "id": "8e5dccf8-4848-4adc-a6a4-77b14df390a9",
   "metadata": {},
   "source": [
    "### 2.Add and Assign:"
   ]
  },
  {
   "cell_type": "code",
   "execution_count": 31,
   "id": "97b3eef0-a01a-437e-bdb3-49a05aac38bb",
   "metadata": {},
   "outputs": [
    {
     "name": "stdout",
     "output_type": "stream",
     "text": [
      "6\n"
     ]
    }
   ],
   "source": [
    "a += 3\n",
    "print(a)"
   ]
  },
  {
   "cell_type": "markdown",
   "id": "403fe04f-1ab4-4f7e-ab84-dbd8f2a2cb61",
   "metadata": {},
   "source": [
    "### 3.Subtract and Assign:"
   ]
  },
  {
   "cell_type": "code",
   "execution_count": 32,
   "id": "71c7823e-9df4-4660-80bc-8699cb612da5",
   "metadata": {},
   "outputs": [
    {
     "name": "stdout",
     "output_type": "stream",
     "text": [
      "5\n"
     ]
    }
   ],
   "source": [
    "a -= 1\n",
    "print(a)"
   ]
  },
  {
   "cell_type": "markdown",
   "id": "adfd5adb-083d-43c3-b89f-c9228c679b6e",
   "metadata": {},
   "source": [
    "### 4.Multiply and Assign:"
   ]
  },
  {
   "cell_type": "code",
   "execution_count": 33,
   "id": "573ef09f-f8dd-496f-a629-d2cfab338b9c",
   "metadata": {},
   "outputs": [
    {
     "name": "stdout",
     "output_type": "stream",
     "text": [
      "10\n"
     ]
    }
   ],
   "source": [
    "a *= 2\n",
    "print(a)"
   ]
  },
  {
   "cell_type": "markdown",
   "id": "171e331b-1d6e-4419-8887-9e33817c11dc",
   "metadata": {},
   "source": [
    "### 5.Divide and Assign:"
   ]
  },
  {
   "cell_type": "code",
   "execution_count": 34,
   "id": "aa7e58b9-baba-4405-bd49-5157cb74c2ec",
   "metadata": {},
   "outputs": [
    {
     "name": "stdout",
     "output_type": "stream",
     "text": [
      "5.0\n"
     ]
    }
   ],
   "source": [
    "a /= 2\n",
    "print(a)"
   ]
  },
  {
   "cell_type": "markdown",
   "id": "df54243d-7b84-4aee-b43a-12c09ce925f1",
   "metadata": {},
   "source": [
    "## Identity Operators"
   ]
  },
  {
   "cell_type": "markdown",
   "id": "8a05c0ff-2e6f-4cb7-a70a-73c131c81e77",
   "metadata": {},
   "source": [
    "### 1.is:"
   ]
  },
  {
   "cell_type": "code",
   "execution_count": 35,
   "id": "b641057d-30b2-4dbe-9623-8f8e60905288",
   "metadata": {},
   "outputs": [
    {
     "name": "stdout",
     "output_type": "stream",
     "text": [
      "True\n"
     ]
    }
   ],
   "source": [
    "a = 3\n",
    "b = 3\n",
    "print(a is b)"
   ]
  },
  {
   "cell_type": "markdown",
   "id": "8f89523d-9adb-4bfa-8cae-90fb4fedcb12",
   "metadata": {},
   "source": [
    "### 2.is not:"
   ]
  },
  {
   "cell_type": "code",
   "execution_count": 36,
   "id": "71084322-af64-4afc-a235-d6f1911a6d4d",
   "metadata": {},
   "outputs": [
    {
     "name": "stdout",
     "output_type": "stream",
     "text": [
      "True\n"
     ]
    }
   ],
   "source": [
    "a = [1,2,3]\n",
    "b = [1,2,3]\n",
    "print(a is not b)"
   ]
  },
  {
   "cell_type": "markdown",
   "id": "f0760af2-e987-4264-bbcc-32a290b6d801",
   "metadata": {},
   "source": [
    "### Membership Operators"
   ]
  },
  {
   "cell_type": "markdown",
   "id": "8bd26337-eede-42e7-bb05-cedab455500f",
   "metadata": {},
   "source": [
    "### 1.in:"
   ]
  },
  {
   "cell_type": "code",
   "execution_count": 37,
   "id": "12315a45-d93e-45ee-b67d-d9bc22625490",
   "metadata": {},
   "outputs": [
    {
     "name": "stdout",
     "output_type": "stream",
     "text": [
      "True\n"
     ]
    }
   ],
   "source": [
    "x = 'Hello'\n",
    "print('H' in x)"
   ]
  },
  {
   "cell_type": "markdown",
   "id": "c478631f-de68-433a-b5e9-7e5548e0d20c",
   "metadata": {},
   "source": [
    "### 2.not in:"
   ]
  },
  {
   "cell_type": "code",
   "execution_count": 38,
   "id": "3fcc1528-b8ae-4d23-b203-5ef164844058",
   "metadata": {},
   "outputs": [
    {
     "name": "stdout",
     "output_type": "stream",
     "text": [
      "True\n"
     ]
    }
   ],
   "source": [
    "print('x' not in x)"
   ]
  },
  {
   "cell_type": "code",
   "execution_count": null,
   "id": "55e5d06e-9924-4594-b14c-2a83e86e00ae",
   "metadata": {},
   "outputs": [],
   "source": []
  }
 ],
 "metadata": {
  "kernelspec": {
   "display_name": "Python 3 (ipykernel)",
   "language": "python",
   "name": "python3"
  },
  "language_info": {
   "codemirror_mode": {
    "name": "ipython",
    "version": 3
   },
   "file_extension": ".py",
   "mimetype": "text/x-python",
   "name": "python",
   "nbconvert_exporter": "python",
   "pygments_lexer": "ipython3",
   "version": "3.11.7"
  }
 },
 "nbformat": 4,
 "nbformat_minor": 5
}
