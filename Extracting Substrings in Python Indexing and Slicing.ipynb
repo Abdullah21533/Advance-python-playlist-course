{
 "cells": [
  {
   "cell_type": "markdown",
   "id": "dc60c1ee-d1e8-43b7-bfb6-d92de059892b",
   "metadata": {},
   "source": [
    "# Extracting Substrings in Python: Indexing and Slicing"
   ]
  },
  {
   "cell_type": "markdown",
   "id": "ccaecb51-a069-4e2f-8237-8406280d9e88",
   "metadata": {},
   "source": [
    "### Indexing"
   ]
  },
  {
   "cell_type": "raw",
   "id": "647f88be-1802-41c8-936f-1da1fa61e79d",
   "metadata": {},
   "source": [
    "Indexing lets you access individual characters in a string. Imagine you have the string \"apple\". Each character in this string has a position, starting from 0:\n",
    "\n",
    "'a' is at index 0\n",
    "'p' is at index 1\n",
    "'p' is at index 2\n",
    "'l' is at index 3\n",
    "'e' is at index 4"
   ]
  },
  {
   "cell_type": "code",
   "execution_count": 1,
   "id": "821a1578-ae56-4d35-85e4-f772aaaa55a5",
   "metadata": {},
   "outputs": [
    {
     "name": "stdout",
     "output_type": "stream",
     "text": [
      "a\n",
      "p\n"
     ]
    }
   ],
   "source": [
    "c = \"apple\"\n",
    "print(c[0])\n",
    "print(c[1])"
   ]
  },
  {
   "cell_type": "markdown",
   "id": "cc513d68-cbce-4f04-ba66-3c0bf9bd506f",
   "metadata": {},
   "source": [
    "### Positive and Negative Indexing"
   ]
  },
  {
   "cell_type": "code",
   "execution_count": 3,
   "id": "c1ecf58c-fd5c-46ac-bbc5-553d723596ec",
   "metadata": {},
   "outputs": [
    {
     "name": "stdout",
     "output_type": "stream",
     "text": [
      "e\n",
      "l\n"
     ]
    }
   ],
   "source": [
    "print(c[-1])\n",
    "print(c[-2])"
   ]
  },
  {
   "cell_type": "markdown",
   "id": "10aca9ee-38c7-4860-93b0-5631fc4f3adb",
   "metadata": {},
   "source": [
    "### Slicing\n"
   ]
  },
  {
   "cell_type": "code",
   "execution_count": 5,
   "id": "f18a2fd1-1a3d-40bf-9569-fc4291b4a5d2",
   "metadata": {},
   "outputs": [],
   "source": [
    "# string[start:end]"
   ]
  },
  {
   "cell_type": "code",
   "execution_count": 6,
   "id": "0690facc-0b02-47fd-921f-ed1c370bffc7",
   "metadata": {},
   "outputs": [
    {
     "name": "stdout",
     "output_type": "stream",
     "text": [
      "inea\n"
     ]
    }
   ],
   "source": [
    "s = \"pineaple\"\n",
    "print(s[1:5])"
   ]
  },
  {
   "cell_type": "markdown",
   "id": "e35de2dd-bf4d-41ab-9840-abfb434e2bf4",
   "metadata": {},
   "source": [
    "### Slicing Variations"
   ]
  },
  {
   "cell_type": "markdown",
   "id": "8996c982-eade-47c1-a3b1-df1095b68267",
   "metadata": {},
   "source": [
    "### Slicing Without Start or End:"
   ]
  },
  {
   "cell_type": "code",
   "execution_count": 7,
   "id": "66a6a369-1f24-4268-9c18-d41fd81f0aa1",
   "metadata": {},
   "outputs": [
    {
     "name": "stdout",
     "output_type": "stream",
     "text": [
      "pineaple\n"
     ]
    }
   ],
   "source": [
    "print(s[:])"
   ]
  },
  {
   "cell_type": "markdown",
   "id": "5beb4810-6ddd-4834-8606-252ebdaa35e8",
   "metadata": {},
   "source": [
    "### Slicing with Step:"
   ]
  },
  {
   "cell_type": "code",
   "execution_count": 8,
   "id": "c4ce6254-8e0b-4462-8be5-e97ca2d7c5fe",
   "metadata": {},
   "outputs": [
    {
     "name": "stdout",
     "output_type": "stream",
     "text": [
      "iep\n"
     ]
    }
   ],
   "source": [
    "print(s[1:7:2])"
   ]
  },
  {
   "cell_type": "markdown",
   "id": "a482e7f2-3069-442e-a060-299752553aab",
   "metadata": {},
   "source": [
    "### Reversing a String: "
   ]
  },
  {
   "cell_type": "code",
   "execution_count": 9,
   "id": "65bb36f7-9e90-4b94-ad88-d6711129e682",
   "metadata": {},
   "outputs": [
    {
     "name": "stdout",
     "output_type": "stream",
     "text": [
      "elpaenip\n"
     ]
    }
   ],
   "source": [
    "print(s[::-1])"
   ]
  },
  {
   "cell_type": "raw",
   "id": "2e8b1dcf-2f39-48ab-a099-02f7e5e2c1e2",
   "metadata": {},
   "source": [
    "Practice Exercise\n",
    "Try experimenting with these concepts using different strings. For example, given the string \"banana\", try these:\n",
    "\n",
    "1. Extract \"ban\" from \"banana\".\n",
    "2. Use slicing to get \"an\" from \"banana\".\n",
    "3. Reverse the string \"banana\" using slicing."
   ]
  },
  {
   "cell_type": "code",
   "execution_count": null,
   "id": "c8335678-dbba-4dcd-b3f0-3a35ea81c3aa",
   "metadata": {},
   "outputs": [],
   "source": []
  }
 ],
 "metadata": {
  "kernelspec": {
   "display_name": "Python 3 (ipykernel)",
   "language": "python",
   "name": "python3"
  },
  "language_info": {
   "codemirror_mode": {
    "name": "ipython",
    "version": 3
   },
   "file_extension": ".py",
   "mimetype": "text/x-python",
   "name": "python",
   "nbconvert_exporter": "python",
   "pygments_lexer": "ipython3",
   "version": "3.11.7"
  }
 },
 "nbformat": 4,
 "nbformat_minor": 5
}
