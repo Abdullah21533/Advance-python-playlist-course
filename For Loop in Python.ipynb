{
 "cells": [
  {
   "cell_type": "markdown",
   "id": "64fcc8e8-8080-47fc-b3e7-e6e8b69078f7",
   "metadata": {},
   "source": [
    "# For Loop in Python"
   ]
  },
  {
   "cell_type": "markdown",
   "id": "5b0ba6d1-4a5b-4adb-98c5-f6ae4e13a602",
   "metadata": {},
   "source": [
    "### What is a For Loop?"
   ]
  },
  {
   "cell_type": "code",
   "execution_count": null,
   "id": "33728dfc-5cef-40dd-b43f-77660f9241ee",
   "metadata": {},
   "outputs": [],
   "source": [
    "for (int i = 0; i < 10; i++){\n",
    "    \n",
    "}"
   ]
  },
  {
   "cell_type": "markdown",
   "id": "4419e100-a105-4c26-96df-5bbd18c8abd0",
   "metadata": {},
   "source": [
    "### Understanding the Range Function"
   ]
  },
  {
   "cell_type": "code",
   "execution_count": 2,
   "id": "a692c10c-cc2e-4224-8b87-4b56571328d0",
   "metadata": {},
   "outputs": [
    {
     "data": {
      "text/plain": [
       "range(1, 11)"
      ]
     },
     "execution_count": 2,
     "metadata": {},
     "output_type": "execute_result"
    }
   ],
   "source": [
    "range(1,11)"
   ]
  },
  {
   "cell_type": "code",
   "execution_count": 3,
   "id": "bc049254-1351-4667-8c00-7792058b27e5",
   "metadata": {},
   "outputs": [
    {
     "data": {
      "text/plain": [
       "[1, 2, 3, 4, 5, 6, 7, 8, 9, 10]"
      ]
     },
     "execution_count": 3,
     "metadata": {},
     "output_type": "execute_result"
    }
   ],
   "source": [
    "list(range(1,11))"
   ]
  },
  {
   "cell_type": "markdown",
   "id": "9de2b3f5-0f6e-40d9-99a3-47f1f1c22ed7",
   "metadata": {},
   "source": [
    "### Parameters of the Range Function"
   ]
  },
  {
   "cell_type": "code",
   "execution_count": 4,
   "id": "01d30dff-2e82-45cd-b8c1-c9fe667e520a",
   "metadata": {},
   "outputs": [
    {
     "data": {
      "text/plain": [
       "range(1, 11, 2)"
      ]
     },
     "execution_count": 4,
     "metadata": {},
     "output_type": "execute_result"
    }
   ],
   "source": [
    "range(1,11,2)"
   ]
  },
  {
   "cell_type": "code",
   "execution_count": 5,
   "id": "a511e43d-5b0d-4175-904d-cdca869fd7c0",
   "metadata": {},
   "outputs": [
    {
     "data": {
      "text/plain": [
       "range(10, 0, -1)"
      ]
     },
     "execution_count": 5,
     "metadata": {},
     "output_type": "execute_result"
    }
   ],
   "source": [
    "range(10, 0, -1)"
   ]
  },
  {
   "cell_type": "markdown",
   "id": "a16bb464-e679-43db-875b-1bb4f5a6bf30",
   "metadata": {},
   "source": [
    "### Using For Loop with Range"
   ]
  },
  {
   "cell_type": "code",
   "execution_count": 6,
   "id": "685e91cd-5695-43bf-b14a-366c5b15a593",
   "metadata": {},
   "outputs": [
    {
     "name": "stdout",
     "output_type": "stream",
     "text": [
      "1\n",
      "2\n",
      "3\n",
      "4\n",
      "5\n",
      "6\n",
      "7\n",
      "8\n",
      "9\n",
      "10\n"
     ]
    }
   ],
   "source": [
    "for i in range(1,11):\n",
    "    print(i)"
   ]
  },
  {
   "cell_type": "markdown",
   "id": "34a073b7-5850-4693-abf4-9d95c3a025ff",
   "metadata": {},
   "source": [
    "### For Loop with Sequences"
   ]
  },
  {
   "cell_type": "code",
   "execution_count": 7,
   "id": "6abc142f-615a-4bf6-89b3-d60c57039521",
   "metadata": {},
   "outputs": [
    {
     "name": "stdout",
     "output_type": "stream",
     "text": [
      "p\n",
      "y\n",
      "t\n",
      "h\n",
      "o\n",
      "n\n"
     ]
    }
   ],
   "source": [
    "for char in \"python\":\n",
    "    print(char)"
   ]
  },
  {
   "cell_type": "markdown",
   "id": "c490133e-7bb7-4079-a47d-37bbe4b58a52",
   "metadata": {},
   "source": [
    "### Printing Multiplication Table"
   ]
  },
  {
   "cell_type": "code",
   "execution_count": 8,
   "id": "1e5f96b2-8d30-4d42-b62d-9a264778726a",
   "metadata": {},
   "outputs": [
    {
     "name": "stdin",
     "output_type": "stream",
     "text": [
      "Enter a number:  3\n"
     ]
    },
    {
     "name": "stdout",
     "output_type": "stream",
     "text": [
      "3 x 1 = 3\n",
      "3 x 2 = 6\n",
      "3 x 3 = 9\n",
      "3 x 4 = 12\n",
      "3 x 5 = 15\n",
      "3 x 6 = 18\n",
      "3 x 7 = 21\n",
      "3 x 8 = 24\n",
      "3 x 9 = 27\n",
      "3 x 10 = 30\n"
     ]
    }
   ],
   "source": [
    "number = int(input(\"Enter a number: \"))\n",
    "for i in range(1,11):\n",
    "    print(f\"{number} x {i} = {number * i}\")"
   ]
  },
  {
   "cell_type": "markdown",
   "id": "5a75d190-5413-4222-86da-a66153e51718",
   "metadata": {},
   "source": [
    "### Sum of Natural Numbers"
   ]
  },
  {
   "cell_type": "code",
   "execution_count": 9,
   "id": "7c387574-b283-438c-8cc2-41f4ec4befca",
   "metadata": {},
   "outputs": [
    {
     "name": "stdin",
     "output_type": "stream",
     "text": [
      "Enter a number:  4\n"
     ]
    },
    {
     "name": "stdout",
     "output_type": "stream",
     "text": [
      "The sum of the first 4 natural number is 10\n"
     ]
    }
   ],
   "source": [
    "n = int(input(\"Enter a number: \"))\n",
    "total_sum = 0\n",
    "for i in range(1, n+1):\n",
    "    total_sum +=i\n",
    "\n",
    "print(f\"The sum of the first {n} natural number is {total_sum}\")"
   ]
  },
  {
   "cell_type": "markdown",
   "id": "9c062c95-1de8-4222-b5f5-8bd768888226",
   "metadata": {},
   "source": [
    "### Counting Vowels in a String"
   ]
  },
  {
   "cell_type": "code",
   "execution_count": 15,
   "id": "0853cfbf-aadb-400d-b6b1-43e7b60e2f4d",
   "metadata": {},
   "outputs": [
    {
     "name": "stdin",
     "output_type": "stream",
     "text": [
      "Enter a string:  afs\n"
     ]
    },
    {
     "name": "stdout",
     "output_type": "stream",
     "text": [
      "The number of vowels in the string is  1\n"
     ]
    }
   ],
   "source": [
    "string = input(\"Enter a string: \")\n",
    "vowels = \"aeiouAEIOU\"\n",
    "count = 0\n",
    "for char in string:\n",
    "    if char in vowels:\n",
    "        count +=1\n",
    "\n",
    "print(f\"The number of vowels in the string is  {count}\")"
   ]
  },
  {
   "cell_type": "markdown",
   "id": "97753c3b-20ec-4e9c-a917-f1543275e6ce",
   "metadata": {},
   "source": [
    "### Use List Comprehensions"
   ]
  },
  {
   "cell_type": "code",
   "execution_count": 16,
   "id": "806fa25c-c186-4ee3-9645-1b4d375a0388",
   "metadata": {},
   "outputs": [
    {
     "name": "stdout",
     "output_type": "stream",
     "text": [
      "[1, 4, 9, 16, 25, 36, 49, 64, 81, 100]\n"
     ]
    }
   ],
   "source": [
    "squares = [x**2 for x in range(1,11)]\n",
    "print(squares)"
   ]
  },
  {
   "cell_type": "markdown",
   "id": "ad75e6f0-ce03-4d14-a20a-b35a2b6092fc",
   "metadata": {},
   "source": [
    "### Avoid Infinite Loops:"
   ]
  },
  {
   "cell_type": "code",
   "execution_count": 19,
   "id": "2903f665-3241-4239-a389-227f24f547cd",
   "metadata": {},
   "outputs": [
    {
     "name": "stdout",
     "output_type": "stream",
     "text": [
      "0: apple\n",
      "1: banana\n",
      "2: cherry\n"
     ]
    }
   ],
   "source": [
    "fruits = [\"apple\", \"banana\", \"cherry\"]\n",
    "for index, fruit in enumerate(fruits):\n",
    "    print(f\"{index}: {fruit}\")\n"
   ]
  },
  {
   "cell_type": "code",
   "execution_count": null,
   "id": "509a2cf1-aca4-4982-9098-32bda630f10e",
   "metadata": {},
   "outputs": [],
   "source": []
  }
 ],
 "metadata": {
  "kernelspec": {
   "display_name": "Python 3 (ipykernel)",
   "language": "python",
   "name": "python3"
  },
  "language_info": {
   "codemirror_mode": {
    "name": "ipython",
    "version": 3
   },
   "file_extension": ".py",
   "mimetype": "text/x-python",
   "name": "python",
   "nbconvert_exporter": "python",
   "pygments_lexer": "ipython3",
   "version": "3.11.7"
  }
 },
 "nbformat": 4,
 "nbformat_minor": 5
}
