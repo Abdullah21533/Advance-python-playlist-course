{
 "cells": [
  {
   "cell_type": "markdown",
   "id": "7f3a39e6-72e5-4a55-99de-eb08d3f97cb5",
   "metadata": {},
   "source": [
    "### Understanding Immutability"
   ]
  },
  {
   "cell_type": "markdown",
   "id": "690619ee-fe29-4d3b-a1a0-0027c031a5e1",
   "metadata": {},
   "source": [
    "### Reassignment"
   ]
  },
  {
   "cell_type": "code",
   "execution_count": 1,
   "id": "9e2da304-93f8-4e1f-ac4b-aa63f567a315",
   "metadata": {},
   "outputs": [
    {
     "name": "stdout",
     "output_type": "stream",
     "text": [
      "world\n"
     ]
    }
   ],
   "source": [
    "c = \"hello\"\n",
    "c = \"world\"\n",
    "print(c)"
   ]
  },
  {
   "cell_type": "markdown",
   "id": "aa694545-9683-4afe-9b67-f13e7e9dc3d6",
   "metadata": {},
   "source": [
    "### Deleting Strings"
   ]
  },
  {
   "cell_type": "code",
   "execution_count": 2,
   "id": "c9607b56-af84-4cb7-8ca0-a99ccf8bc676",
   "metadata": {},
   "outputs": [],
   "source": [
    "c = \"hello\"\n",
    "del c"
   ]
  },
  {
   "cell_type": "markdown",
   "id": "59cb48b4-5521-4a1b-a759-9b31d9ea12b2",
   "metadata": {},
   "source": [
    "#### Creating New Strings:"
   ]
  },
  {
   "cell_type": "code",
   "execution_count": 3,
   "id": "171d02c1-77c8-47f4-be18-210ea97a9f38",
   "metadata": {},
   "outputs": [
    {
     "name": "stdout",
     "output_type": "stream",
     "text": [
      "xello\n"
     ]
    }
   ],
   "source": [
    "c = \"hello\"\n",
    "c = \"x\" + c[1:]\n",
    "print(c)"
   ]
  },
  {
   "cell_type": "markdown",
   "id": "84ecdae3-9755-40d6-9610-a2f2368c1318",
   "metadata": {},
   "source": [
    "### String Slicing:"
   ]
  },
  {
   "cell_type": "code",
   "execution_count": 4,
   "id": "31d639a4-2250-4560-a39b-e4f15c05f075",
   "metadata": {},
   "outputs": [
    {
     "name": "stdout",
     "output_type": "stream",
     "text": [
      "hallo\n"
     ]
    }
   ],
   "source": [
    "c = \"hello\"\n",
    "new_c = c[:1] + \"a\" + c[2:]\n",
    "print(new_c)"
   ]
  },
  {
   "cell_type": "markdown",
   "id": "64ea8118-c279-46ca-9548-5f3ecb1db3c5",
   "metadata": {},
   "source": [
    "#### Deleting by Reassignment:"
   ]
  },
  {
   "cell_type": "code",
   "execution_count": null,
   "id": "c4a9262a-ecce-4935-bdf7-b8e7da975bb3",
   "metadata": {},
   "outputs": [],
   "source": [
    "c = \"hello\"\n",
    "new_c = c[:1] + c[]"
   ]
  }
 ],
 "metadata": {
  "kernelspec": {
   "display_name": "Python 3 (ipykernel)",
   "language": "python",
   "name": "python3"
  },
  "language_info": {
   "codemirror_mode": {
    "name": "ipython",
    "version": 3
   },
   "file_extension": ".py",
   "mimetype": "text/x-python",
   "name": "python",
   "nbconvert_exporter": "python",
   "pygments_lexer": "ipython3",
   "version": "3.11.7"
  }
 },
 "nbformat": 4,
 "nbformat_minor": 5
}
