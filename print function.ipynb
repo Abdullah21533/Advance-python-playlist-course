{
 "cells": [
  {
   "cell_type": "markdown",
   "id": "93dfe328-1b22-4aa7-8e11-d28c8732a936",
   "metadata": {},
   "source": [
    "# print function"
   ]
  },
  {
   "cell_type": "code",
   "execution_count": 1,
   "id": "2dce546e-755c-48e7-8f57-a0971463bd53",
   "metadata": {},
   "outputs": [
    {
     "name": "stdout",
     "output_type": "stream",
     "text": [
      "Hello world\n"
     ]
    }
   ],
   "source": [
    "print(\"Hello world\")"
   ]
  },
  {
   "cell_type": "markdown",
   "id": "d9c185b6-f475-4473-9568-406cb5011102",
   "metadata": {},
   "source": [
    "# print Different Data Types"
   ]
  },
  {
   "cell_type": "code",
   "execution_count": 2,
   "id": "cc038574-0c38-4767-a065-55094f41c871",
   "metadata": {},
   "outputs": [
    {
     "name": "stdout",
     "output_type": "stream",
     "text": [
      "100\n"
     ]
    }
   ],
   "source": [
    "#Integer\n",
    "print(100)"
   ]
  },
  {
   "cell_type": "code",
   "execution_count": 3,
   "id": "7af09dec-7c22-441e-8e02-880bb6e01a1d",
   "metadata": {},
   "outputs": [
    {
     "name": "stdout",
     "output_type": "stream",
     "text": [
      "99.99\n"
     ]
    }
   ],
   "source": [
    "#float\n",
    "print(99.99)"
   ]
  },
  {
   "cell_type": "code",
   "execution_count": 4,
   "id": "d2645b02-c542-4c9a-be0c-fec818b55ba9",
   "metadata": {},
   "outputs": [
    {
     "name": "stdout",
     "output_type": "stream",
     "text": [
      "True\n"
     ]
    }
   ],
   "source": [
    "#Boolean\n",
    "print(True)"
   ]
  },
  {
   "cell_type": "code",
   "execution_count": 5,
   "id": "0ebd17ad-19f9-4839-a3c8-85ed6bcb0982",
   "metadata": {},
   "outputs": [
    {
     "name": "stdout",
     "output_type": "stream",
     "text": [
      "False\n"
     ]
    }
   ],
   "source": [
    "print(False)"
   ]
  },
  {
   "cell_type": "code",
   "execution_count": 6,
   "id": "abf11715-05ed-46de-bc53-60b47809b372",
   "metadata": {},
   "outputs": [
    {
     "name": "stdout",
     "output_type": "stream",
     "text": [
      "[1, 3, 4, 5]\n"
     ]
    }
   ],
   "source": [
    "#list\n",
    "print([1,3,4,5])"
   ]
  },
  {
   "cell_type": "code",
   "execution_count": 7,
   "id": "4e32aa75-5b6e-4cbc-8290-62b8b8f23bde",
   "metadata": {},
   "outputs": [
    {
     "name": "stdout",
     "output_type": "stream",
     "text": [
      "{'name': 'Alice', 'age': 20}\n"
     ]
    }
   ],
   "source": [
    "#Dictionary\n",
    "print({\"name\":\"Alice\", \"age\": 20})"
   ]
  },
  {
   "cell_type": "markdown",
   "id": "7926edd9-8df0-426d-a69f-4b1d6c6380af",
   "metadata": {},
   "source": [
    "### print Multiple items"
   ]
  },
  {
   "cell_type": "code",
   "execution_count": 8,
   "id": "10f1b822-df87-43ce-92a9-8baeeeba2fe8",
   "metadata": {},
   "outputs": [
    {
     "name": "stdout",
     "output_type": "stream",
     "text": [
      "Apple Banna Cherry\n"
     ]
    }
   ],
   "source": [
    "#multipule strings\n",
    "print(\"Apple\", \"Banna\",\"Cherry\")"
   ]
  },
  {
   "cell_type": "code",
   "execution_count": 9,
   "id": "6092b3dc-3a98-40e8-b98b-6b9900ea4c01",
   "metadata": {},
   "outputs": [
    {
     "name": "stdout",
     "output_type": "stream",
     "text": [
      "Age 30 Height 5.8\n"
     ]
    }
   ],
   "source": [
    "#mixed data types\n",
    "print(\"Age\",30, \"Height\", 5.8)"
   ]
  },
  {
   "cell_type": "code",
   "execution_count": 10,
   "id": "b2d00950-2889-4a1e-8ea2-193263ad538e",
   "metadata": {},
   "outputs": [
    {
     "name": "stdout",
     "output_type": "stream",
     "text": [
      "True 100 Python,[1,3,4,5]\n"
     ]
    }
   ],
   "source": [
    "#different data types together \n",
    "print(True, 100, \"Python,[1,3,4,5]\")"
   ]
  },
  {
   "cell_type": "markdown",
   "id": "89ddfed6-5a82-414d-811d-eea13219e533",
   "metadata": {},
   "source": [
    "## Using the 'sep' parameter"
   ]
  },
  {
   "cell_type": "code",
   "execution_count": 11,
   "id": "7fb92363-1d12-4ab8-8b46-e17d97ec1e69",
   "metadata": {},
   "outputs": [
    {
     "name": "stdout",
     "output_type": "stream",
     "text": [
      "pyhton, is, fun\n"
     ]
    }
   ],
   "source": [
    "#Using comma as separator\n",
    "print(\"pyhton\", \"is\", \"fun\", sep=\", \")"
   ]
  },
  {
   "cell_type": "code",
   "execution_count": 12,
   "id": "f53a14ee-61e1-46c2-8a56-e7e0a0e6a632",
   "metadata": {},
   "outputs": [
    {
     "name": "stdout",
     "output_type": "stream",
     "text": [
      "pyhton_is_fun\n"
     ]
    }
   ],
   "source": [
    "#using hyphen as separator\n",
    "print(\"pyhton\", \"is\", \"fun\", sep=\"_\")"
   ]
  },
  {
   "cell_type": "code",
   "execution_count": 13,
   "id": "3f081412-69c6-43d0-93b9-60ac81a5e389",
   "metadata": {},
   "outputs": [
    {
     "name": "stdout",
     "output_type": "stream",
     "text": [
      "pyhton/is/fun\n"
     ]
    }
   ],
   "source": [
    "# using slash as separator\n",
    "print(\"pyhton\", \"is\", \"fun\", sep=\"/\")"
   ]
  },
  {
   "cell_type": "markdown",
   "id": "3c6d4875-4077-4baf-b871-7b9b067fb801",
   "metadata": {},
   "source": [
    "### Using the 'end' parameter"
   ]
  },
  {
   "cell_type": "code",
   "execution_count": 17,
   "id": "85883a45-5ee5-4fa2-9cc2-393c43f805df",
   "metadata": {},
   "outputs": [
    {
     "name": "stdout",
     "output_type": "stream",
     "text": [
      "Hello World\n",
      "python is awesome!\n"
     ]
    }
   ],
   "source": [
    "print(\"Hello\", end=\" \")\n",
    "print(\"World\")\n",
    "print(\"python\", end=\" is \")\n",
    "print(\"awesome!\")"
   ]
  },
  {
   "cell_type": "markdown",
   "id": "65c4ef51-a593-4deb-b29a-4239bd099d0a",
   "metadata": {},
   "source": [
    "### Advanced Parameter 'file' and 'flush'"
   ]
  },
  {
   "cell_type": "code",
   "execution_count": 18,
   "id": "4ed15e4c-7454-4f3c-a2b2-f961bc657984",
   "metadata": {},
   "outputs": [
    {
     "ename": "NameError",
     "evalue": "name 'sys' is not defined",
     "output_type": "error",
     "traceback": [
      "\u001b[1;31m---------------------------------------------------------------------------\u001b[0m",
      "\u001b[1;31mNameError\u001b[0m                                 Traceback (most recent call last)",
      "Cell \u001b[1;32mIn[18], line 2\u001b[0m\n\u001b[0;32m      1\u001b[0m \u001b[38;5;66;03m# Using the file parameter\u001b[39;00m\n\u001b[1;32m----> 2\u001b[0m \u001b[38;5;28mprint\u001b[39m(\u001b[38;5;124m\"\u001b[39m\u001b[38;5;124mthis will go to standard error,\u001b[39m\u001b[38;5;124m\"\u001b[39m, file\u001b[38;5;241m=\u001b[39m sys\u001b[38;5;241m.\u001b[39mstderr)\n",
      "\u001b[1;31mNameError\u001b[0m: name 'sys' is not defined"
     ]
    }
   ],
   "source": [
    "# Using the file parameter\n",
    "print(\"this will go to standard error,\", file= sys.stderr)"
   ]
  },
  {
   "cell_type": "code",
   "execution_count": 19,
   "id": "f265fdd2-e53a-4e9b-9ebd-985ee3b1fb84",
   "metadata": {},
   "outputs": [
    {
     "name": "stdout",
     "output_type": "stream",
     "text": [
      "Flushing the output buffer.\n"
     ]
    }
   ],
   "source": [
    "print(\"Flushing the output buffer.\", flush=True)"
   ]
  },
  {
   "cell_type": "code",
   "execution_count": null,
   "id": "e6fbd1cc-097f-4c18-a8f9-c22d01649a7b",
   "metadata": {},
   "outputs": [],
   "source": []
  }
 ],
 "metadata": {
  "kernelspec": {
   "display_name": "Python 3 (ipykernel)",
   "language": "python",
   "name": "python3"
  },
  "language_info": {
   "codemirror_mode": {
    "name": "ipython",
    "version": 3
   },
   "file_extension": ".py",
   "mimetype": "text/x-python",
   "name": "python",
   "nbconvert_exporter": "python",
   "pygments_lexer": "ipython3",
   "version": "3.11.7"
  }
 },
 "nbformat": 4,
 "nbformat_minor": 5
}
