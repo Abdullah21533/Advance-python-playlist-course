{
 "cells": [
  {
   "cell_type": "markdown",
   "id": "f55e3cb3-b44f-4bbb-a9cf-e1c15d0646c0",
   "metadata": {},
   "source": [
    "### Break, Continue, and Pass Statements in Python"
   ]
  },
  {
   "cell_type": "markdown",
   "id": "45ba3598-3a6d-4536-b7dc-5a7344dfdee3",
   "metadata": {},
   "source": [
    "### Break Statement"
   ]
  },
  {
   "cell_type": "code",
   "execution_count": 1,
   "id": "c8cdab62-2b24-4d5e-b0c0-12b1716a26f0",
   "metadata": {},
   "outputs": [
    {
     "name": "stdout",
     "output_type": "stream",
     "text": [
      "1\n",
      "2\n",
      "3\n",
      "4\n"
     ]
    }
   ],
   "source": [
    "for i in range(1, 11):\n",
    "    if i == 5:\n",
    "        break\n",
    "    print(i)"
   ]
  },
  {
   "cell_type": "markdown",
   "id": "02e0195f-061c-41ef-9147-c51ea06f5913",
   "metadata": {},
   "source": [
    "### Continue Statement"
   ]
  },
  {
   "cell_type": "code",
   "execution_count": 2,
   "id": "33e4b439-7eb7-4755-a4a2-b67809219137",
   "metadata": {},
   "outputs": [
    {
     "name": "stdout",
     "output_type": "stream",
     "text": [
      "1\n",
      "2\n",
      "3\n",
      "4\n",
      "6\n",
      "7\n",
      "8\n",
      "9\n",
      "10\n"
     ]
    }
   ],
   "source": [
    "for i in range(1, 11):\n",
    "    if i == 5 :\n",
    "        continue\n",
    "    print(i)"
   ]
  },
  {
   "cell_type": "markdown",
   "id": "0782d39a-c501-46d8-abcd-a1cbfe7aad3b",
   "metadata": {},
   "source": [
    "### Pass Statement"
   ]
  },
  {
   "cell_type": "code",
   "execution_count": 3,
   "id": "ab998dcb-3be8-4b0e-96c1-949a69679482",
   "metadata": {},
   "outputs": [
    {
     "name": "stdout",
     "output_type": "stream",
     "text": [
      "1\n",
      "2\n",
      "3\n",
      "4\n",
      "5\n",
      "6\n",
      "7\n",
      "8\n",
      "9\n",
      "10\n"
     ]
    }
   ],
   "source": [
    "for i in range(1, 11):\n",
    "    if i == 5:\n",
    "        pass\n",
    "    print(i)"
   ]
  },
  {
   "cell_type": "code",
   "execution_count": 4,
   "id": "058ea561-463e-47e2-b811-ff51241c6d4f",
   "metadata": {},
   "outputs": [],
   "source": [
    "def future_function():\n",
    "    pass"
   ]
  },
  {
   "cell_type": "code",
   "execution_count": null,
   "id": "8b3ee19a-7d7d-4d84-ace4-118084604488",
   "metadata": {},
   "outputs": [],
   "source": []
  }
 ],
 "metadata": {
  "kernelspec": {
   "display_name": "Python 3 (ipykernel)",
   "language": "python",
   "name": "python3"
  },
  "language_info": {
   "codemirror_mode": {
    "name": "ipython",
    "version": 3
   },
   "file_extension": ".py",
   "mimetype": "text/x-python",
   "name": "python",
   "nbconvert_exporter": "python",
   "pygments_lexer": "ipython3",
   "version": "3.11.7"
  }
 },
 "nbformat": 4,
 "nbformat_minor": 5
}
