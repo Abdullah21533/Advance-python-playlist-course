{
 "cells": [
  {
   "cell_type": "markdown",
   "id": "2ff920ec-d7a1-41e4-a018-d3894104f006",
   "metadata": {},
   "source": [
    "# Data Type"
   ]
  },
  {
   "cell_type": "code",
   "execution_count": 1,
   "id": "82b96a08-5d3f-40de-9a9c-a830298a5d87",
   "metadata": {},
   "outputs": [],
   "source": [
    "#integer\n",
    "number = 10 # This is a float"
   ]
  },
  {
   "cell_type": "code",
   "execution_count": 2,
   "id": "cb667cf8-6d91-42a5-8005-212a3b333bc2",
   "metadata": {},
   "outputs": [],
   "source": [
    "#float\n",
    "pi = 3.14 # This is a float"
   ]
  },
  {
   "cell_type": "markdown",
   "id": "a7723f35-ecba-4728-b18e-271e044b3ff3",
   "metadata": {},
   "source": [
    "### complex"
   ]
  },
  {
   "cell_type": "code",
   "execution_count": 3,
   "id": "9a29b350-8372-4fae-91a9-abb00dbf965b",
   "metadata": {},
   "outputs": [],
   "source": [
    "complex_number = 2+ 3j # This is a complex number"
   ]
  },
  {
   "cell_type": "markdown",
   "id": "8d054e0e-8c67-430e-954c-4d00ae63e1ca",
   "metadata": {},
   "source": [
    "### Boolean"
   ]
  },
  {
   "cell_type": "code",
   "execution_count": 4,
   "id": "a58ead8f-4df1-49cc-bd85-db24c4568f71",
   "metadata": {},
   "outputs": [],
   "source": [
    "is_active = True # This is a boolean"
   ]
  },
  {
   "cell_type": "markdown",
   "id": "bc983d3f-f369-4fee-9c4b-ffb634c3965a",
   "metadata": {},
   "source": [
    "### String:"
   ]
  },
  {
   "cell_type": "code",
   "execution_count": 5,
   "id": "6f591030-6e20-46b1-9131-6e015ebacece",
   "metadata": {},
   "outputs": [],
   "source": [
    "name = \"python\" # This is a string"
   ]
  },
  {
   "cell_type": "markdown",
   "id": "614a4d38-604f-4673-8d49-a8e38f80d8f9",
   "metadata": {},
   "source": [
    "## List"
   ]
  },
  {
   "cell_type": "code",
   "execution_count": 6,
   "id": "ac52e611-02ad-42e5-acde-176f25c8ad76",
   "metadata": {},
   "outputs": [],
   "source": [
    "fruits = [\"apple\", \"bannana\", \"cherry\"] # This is a list"
   ]
  },
  {
   "cell_type": "code",
   "execution_count": 7,
   "id": "9516a597-3efd-4358-9d77-22ba41de8fe9",
   "metadata": {},
   "outputs": [
    {
     "name": "stdout",
     "output_type": "stream",
     "text": [
      "['apple', 'bannana', 'cherry']\n"
     ]
    }
   ],
   "source": [
    "print(fruits)"
   ]
  },
  {
   "cell_type": "markdown",
   "id": "b75d42d9-863a-4bbf-a415-7c357c1e046e",
   "metadata": {},
   "source": [
    "## Tuple:"
   ]
  },
  {
   "cell_type": "code",
   "execution_count": 8,
   "id": "49629291-634c-4a50-982f-0ccc23a6bf7f",
   "metadata": {},
   "outputs": [
    {
     "name": "stdout",
     "output_type": "stream",
     "text": [
      "(10.0, 20.0)\n"
     ]
    }
   ],
   "source": [
    "coordinates = (10.0,20.0) # This is a tuple\n",
    "print(coordinates)"
   ]
  },
  {
   "cell_type": "markdown",
   "id": "152f05d5-2f5a-44af-904c-9ac6a1de758f",
   "metadata": {},
   "source": [
    "### Set"
   ]
  },
  {
   "cell_type": "code",
   "execution_count": 9,
   "id": "35b69d82-c3d1-4fde-a3f6-e514d261956a",
   "metadata": {},
   "outputs": [
    {
     "name": "stdout",
     "output_type": "stream",
     "text": [
      "{1, 2, 3, 4, 5}\n"
     ]
    }
   ],
   "source": [
    "unique_numbers = {1,2,3,4,5} # This is a set\n",
    "print(unique_numbers)"
   ]
  },
  {
   "cell_type": "markdown",
   "id": "1a277e22-cc46-435e-b9a5-40e73b0c2afb",
   "metadata": {},
   "source": [
    "### Dictionary"
   ]
  },
  {
   "cell_type": "code",
   "execution_count": 10,
   "id": "814bf3c7-e3f0-479e-bd09-88841d3b29a8",
   "metadata": {},
   "outputs": [
    {
     "name": "stdout",
     "output_type": "stream",
     "text": [
      "{'name': 'john', 'age': 30, 'gender': 'male'}\n"
     ]
    }
   ],
   "source": [
    "person = {\"name\":\"john\", \"age\": 30, \"gender\": \"male\"} # This is a Dictionary\n",
    "print(person)"
   ]
  },
  {
   "cell_type": "markdown",
   "id": "a5058fdd-656d-46db-8792-246fe93d0b9a",
   "metadata": {},
   "source": [
    "## Handling Large Numbers"
   ]
  },
  {
   "cell_type": "code",
   "execution_count": 11,
   "id": "d1e54421-52eb-444b-9296-bb6a0f1fe7b3",
   "metadata": {},
   "outputs": [
    {
     "name": "stdout",
     "output_type": "stream",
     "text": [
      "100000000000000000000000000000000000000000000000000000000000000000000000000000000000000000000000000000000000000000000000000000000000000000000000000000000000000000000000000000000000000000000000000000000000000000000000000000000000000000000000000000000000000000000000000000000000000000000000000000000000000000000\n"
     ]
    }
   ],
   "source": [
    "big_number = 10 ** 308\n",
    "print(big_number) # This print a very large number"
   ]
  },
  {
   "cell_type": "code",
   "execution_count": null,
   "id": "d663f2f6-b8e6-48b0-b4d2-8084abd25385",
   "metadata": {},
   "outputs": [],
   "source": []
  }
 ],
 "metadata": {
  "kernelspec": {
   "display_name": "Python 3 (ipykernel)",
   "language": "python",
   "name": "python3"
  },
  "language_info": {
   "codemirror_mode": {
    "name": "ipython",
    "version": 3
   },
   "file_extension": ".py",
   "mimetype": "text/x-python",
   "name": "python",
   "nbconvert_exporter": "python",
   "pygments_lexer": "ipython3",
   "version": "3.11.7"
  }
 },
 "nbformat": 4,
 "nbformat_minor": 5
}
