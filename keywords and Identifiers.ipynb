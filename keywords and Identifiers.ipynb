{
 "cells": [
  {
   "cell_type": "markdown",
   "id": "13715d67-a046-41b1-b1ee-0b17490afcfc",
   "metadata": {},
   "source": [
    "# Keyword and Identifier in python"
   ]
  },
  {
   "cell_type": "markdown",
   "id": "b634dd3d-6cf6-48d2-86c5-a923480d6e49",
   "metadata": {},
   "source": [
    "## Keywords in python"
   ]
  },
  {
   "cell_type": "code",
   "execution_count": 2,
   "id": "fdcce5e9-75a5-4004-909e-a8e4fe0f430b",
   "metadata": {},
   "outputs": [
    {
     "name": "stdout",
     "output_type": "stream",
     "text": [
      "This is an if statement.\n"
     ]
    }
   ],
   "source": [
    "condition = True\n",
    "if condition:\n",
    "    print(\"This is an if statement.\")"
   ]
  },
  {
   "cell_type": "code",
   "execution_count": 9,
   "id": "539f985a-48fd-468d-885b-337ac7ef58d5",
   "metadata": {},
   "outputs": [
    {
     "name": "stdout",
     "output_type": "stream",
     "text": [
      "if statement\n"
     ]
    }
   ],
   "source": [
    "value = 5\n",
    "if value > 3:\n",
    "    print(\"if statement\")\n"
   ]
  },
  {
   "cell_type": "code",
   "execution_count": 10,
   "id": "d54fe862-f322-4c31-8571-f72618675c6f",
   "metadata": {},
   "outputs": [
    {
     "name": "stdout",
     "output_type": "stream",
     "text": [
      "['False', 'None', 'True', 'and', 'as', 'assert', 'async', 'await', 'break', 'class', 'continue', 'def', 'del', 'elif', 'else', 'except', 'finally', 'for', 'from', 'global', 'if', 'import', 'in', 'is', 'lambda', 'nonlocal', 'not', 'or', 'pass', 'raise', 'return', 'try', 'while', 'with', 'yield']\n"
     ]
    }
   ],
   "source": [
    "import keyword\n",
    "print(keyword.kwlist)"
   ]
  },
  {
   "cell_type": "markdown",
   "id": "5146b9a7-9a01-4996-9424-7288e9240d17",
   "metadata": {},
   "source": [
    "## Identifiers in Python"
   ]
  },
  {
   "cell_type": "markdown",
   "id": "ad83172d-63b5-49bf-840f-19ee277d0a00",
   "metadata": {},
   "source": [
    "### Rules for Naming Identifiers:"
   ]
  },
  {
   "cell_type": "markdown",
   "id": "281e8564-5e3e-4bc5-8f40-8025bd3c1906",
   "metadata": {},
   "source": [
    "### 1.Start with a Letter or Underscore:"
   ]
  },
  {
   "cell_type": "code",
   "execution_count": 12,
   "id": "bd373043-ff4a-46f7-b4b2-ee6b3245a13b",
   "metadata": {},
   "outputs": [],
   "source": [
    "name = \"john\" # Valid\n",
    "_name = \"Doe\" # Valid\n",
    "1name = \"Error\" # Invalid"
   ]
  },
  {
   "cell_type": "markdown",
   "id": "ed5e4cf4-e55f-46a8-8567-0085534678be",
   "metadata": {},
   "source": [
    "### 2.Followed by Letters, Digits, or Underscores:\n"
   ]
  },
  {
   "cell_type": "code",
   "execution_count": null,
   "id": "43c66c18-0430-40cf-8c9d-a78609dd5044",
   "metadata": {},
   "outputs": [],
   "source": [
    "first_name = \"john\" # Valid\n",
    "first-name = \"Error\" # invalid"
   ]
  },
  {
   "cell_type": "markdown",
   "id": "cbd5a168-1779-47d7-8741-da3b32970e8b",
   "metadata": {},
   "source": [
    "### 3.No Special Characters:"
   ]
  },
  {
   "cell_type": "code",
   "execution_count": 13,
   "id": "79358261-dd9c-46fd-ab1d-c527ce280ede",
   "metadata": {},
   "outputs": [
    {
     "ename": "SyntaxError",
     "evalue": "invalid syntax (2432287313.py, line 1)",
     "output_type": "error",
     "traceback": [
      "\u001b[1;36m  Cell \u001b[1;32mIn[13], line 1\u001b[1;36m\u001b[0m\n\u001b[1;33m    name$ = \"Error\" #invalid\u001b[0m\n\u001b[1;37m        ^\u001b[0m\n\u001b[1;31mSyntaxError\u001b[0m\u001b[1;31m:\u001b[0m invalid syntax\n"
     ]
    }
   ],
   "source": [
    "name$ = \"Error\" #invalid"
   ]
  },
  {
   "cell_type": "markdown",
   "id": "0cd9bd56-e5ac-4c26-a90b-097184a7a0b0",
   "metadata": {},
   "source": [
    "### 4.Cannont be a Keyword"
   ]
  },
  {
   "cell_type": "code",
   "execution_count": 14,
   "id": "49bc6efe-a8e3-41a1-9f39-632a102f9de7",
   "metadata": {},
   "outputs": [
    {
     "ename": "SyntaxError",
     "evalue": "cannot assign to False (1713286335.py, line 1)",
     "output_type": "error",
     "traceback": [
      "\u001b[1;36m  Cell \u001b[1;32mIn[14], line 1\u001b[1;36m\u001b[0m\n\u001b[1;33m    False = 1 # Invalid\u001b[0m\n\u001b[1;37m    ^\u001b[0m\n\u001b[1;31mSyntaxError\u001b[0m\u001b[1;31m:\u001b[0m cannot assign to False\n"
     ]
    }
   ],
   "source": [
    "False = 1 # Invalid"
   ]
  },
  {
   "cell_type": "markdown",
   "id": "9cc22474-fcf0-4d96-9d6b-5fe579a73de9",
   "metadata": {},
   "source": [
    "### Example Program"
   ]
  },
  {
   "cell_type": "code",
   "execution_count": 22,
   "id": "66684edc-32a1-4250-b793-a60bd2b5547e",
   "metadata": {},
   "outputs": [
    {
     "name": "stdout",
     "output_type": "stream",
     "text": [
      "Keywords in Python:\n",
      "['False', 'None', 'True', 'and', 'as', 'assert', 'async', 'await', 'break', 'class', 'continue', 'def', 'del', 'elif', 'else', 'except', 'finally', 'for', 'from', 'global', 'if', 'import', 'in', 'is', 'lambda', 'nonlocal', 'not', 'or', 'pass', 'raise', 'return', 'try', 'while', 'with', 'yield']\n",
      "Name: Alice\n",
      "Age: 25\n",
      "Is student: True\n"
     ]
    }
   ],
   "source": [
    "# Keywords an Identifiers Example\n",
    "import keyword\n",
    "# List of Keywords\n",
    "print(\"Keywords in Python:\")\n",
    "print(keyword.kwlist)\n",
    "\n",
    "# vaild identifiers\n",
    "name = \"Alice\"\n",
    "age = 25\n",
    "_is_student = True\n",
    "\n",
    "# Invalid identifiers\n",
    "# 1name = \"Error\" # uncommenting this line will cause an error\n",
    "# @age = 25 # uncommenting this line will cause an error\n",
    "# def = \"keyword\" #uncommenting this line will cause an error\n",
    "\n",
    "print(\"Name:\", name)\n",
    "print(\"Age:\", age)\n",
    "print(\"Is student:\", _is_student)"
   ]
  },
  {
   "cell_type": "code",
   "execution_count": null,
   "id": "f3114281-5f0a-425b-8039-eb1600eac60c",
   "metadata": {},
   "outputs": [],
   "source": []
  }
 ],
 "metadata": {
  "kernelspec": {
   "display_name": "Python 3 (ipykernel)",
   "language": "python",
   "name": "python3"
  },
  "language_info": {
   "codemirror_mode": {
    "name": "ipython",
    "version": 3
   },
   "file_extension": ".py",
   "mimetype": "text/x-python",
   "name": "python",
   "nbconvert_exporter": "python",
   "pygments_lexer": "ipython3",
   "version": "3.11.7"
  }
 },
 "nbformat": 4,
 "nbformat_minor": 5
}
