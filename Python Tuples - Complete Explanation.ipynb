{
 "cells": [
  {
   "cell_type": "markdown",
   "id": "5032a449-ffa7-45aa-b924-4bbc4dba96f1",
   "metadata": {},
   "source": [
    "# Python Tuples - Complete Explanation"
   ]
  },
  {
   "cell_type": "markdown",
   "id": "d9847832-cde2-4221-9c68-543449ab69c6",
   "metadata": {},
   "source": [
    "## Creating Tuples"
   ]
  },
  {
   "cell_type": "markdown",
   "id": "6f8880ee-5c7b-4887-91cf-22a823e103a0",
   "metadata": {},
   "source": [
    "### Empty Tuple"
   ]
  },
  {
   "cell_type": "code",
   "execution_count": 18,
   "id": "6dc23d41-b1ef-48b9-a998-ad2deb7db733",
   "metadata": {},
   "outputs": [],
   "source": [
    "t1 = ()"
   ]
  },
  {
   "cell_type": "markdown",
   "id": "5ef911cd-42de-41c3-a9d2-1fdb2b48e075",
   "metadata": {},
   "source": [
    "### Homogeneous Tuple: (All items are of the same type)"
   ]
  },
  {
   "cell_type": "code",
   "execution_count": 19,
   "id": "dbe9eb00-9ad8-43aa-8f77-24558b6d5adc",
   "metadata": {},
   "outputs": [],
   "source": [
    "t2 = (1,2,3)"
   ]
  },
  {
   "cell_type": "markdown",
   "id": "48151946-346e-4187-a225-2b39cc11668a",
   "metadata": {},
   "source": [
    "### Heterogeneous Tuple: (Items of different types)"
   ]
  },
  {
   "cell_type": "code",
   "execution_count": 20,
   "id": "16d3c5ed-7220-49aa-a07e-cca1fb36bf9e",
   "metadata": {},
   "outputs": [],
   "source": [
    "t3 = (\"Hello\", 4,5.6)"
   ]
  },
  {
   "cell_type": "markdown",
   "id": "0ceb1bb7-6328-47c2-9cab-7403c2777914",
   "metadata": {},
   "source": [
    "### 2D Tuples: (Tuples within tuples)"
   ]
  },
  {
   "cell_type": "code",
   "execution_count": 21,
   "id": "4ed317c0-3a87-4658-9c9d-13cab3b2bc8d",
   "metadata": {},
   "outputs": [],
   "source": [
    "t4 = ((1,2), (3,4))"
   ]
  },
  {
   "cell_type": "markdown",
   "id": "f964cacb-762e-4188-b31c-ed5688fbc5b0",
   "metadata": {},
   "source": [
    "### Single Item Tuple:"
   ]
  },
  {
   "cell_type": "code",
   "execution_count": 22,
   "id": "1b9b30f0-0f09-46c7-bc41-1f688349062c",
   "metadata": {},
   "outputs": [],
   "source": [
    "t5 = (5,)"
   ]
  },
  {
   "cell_type": "markdown",
   "id": "96810f89-0fb7-4dc6-b9ba-c5eb0f76e4ea",
   "metadata": {},
   "source": [
    "### Using Type Conversion:"
   ]
  },
  {
   "cell_type": "code",
   "execution_count": 23,
   "id": "a1f4257c-94d3-4ee9-aeaf-1e866d76eb95",
   "metadata": {},
   "outputs": [],
   "source": [
    "t6 = tuple([1,2,3,4,5])"
   ]
  },
  {
   "cell_type": "markdown",
   "id": "5da8920e-5aa1-49db-a3dc-abc1870e4bb9",
   "metadata": {},
   "source": [
    "## Accessing Tuples"
   ]
  },
  {
   "cell_type": "markdown",
   "id": "fc706e01-0f7b-4995-936a-91821379e94e",
   "metadata": {},
   "source": [
    "### Indexing:"
   ]
  },
  {
   "cell_type": "code",
   "execution_count": 36,
   "id": "8857f50a-276f-4d95-8535-c68fc44dbc50",
   "metadata": {},
   "outputs": [
    {
     "name": "stdout",
     "output_type": "stream",
     "text": [
      "1\n",
      "5\n"
     ]
    }
   ],
   "source": [
    "t2 = (1,2,3,4,5)\n",
    "print(t2[0])\n",
    "print(t2[-1])"
   ]
  },
  {
   "cell_type": "markdown",
   "id": "2131135b-5612-495d-9f39-85f4799072d0",
   "metadata": {},
   "source": [
    "### Slicing:"
   ]
  },
  {
   "cell_type": "code",
   "execution_count": 31,
   "id": "a12436ed-785e-41e9-a525-f514e99339fc",
   "metadata": {},
   "outputs": [
    {
     "name": "stdout",
     "output_type": "stream",
     "text": [
      "(1, 2, 3, 4)\n"
     ]
    }
   ],
   "source": [
    "print(t2[0:4])"
   ]
  },
  {
   "cell_type": "markdown",
   "id": "73a66335-9b2a-427f-a7ab-bc86d46797fa",
   "metadata": {},
   "source": [
    "### Accessing 2D Tuples:"
   ]
  },
  {
   "cell_type": "code",
   "execution_count": 32,
   "id": "e228c4d7-3969-490c-b3a9-4b73de66ca8b",
   "metadata": {},
   "outputs": [
    {
     "name": "stdout",
     "output_type": "stream",
     "text": [
      "3\n"
     ]
    }
   ],
   "source": [
    "t4 = ((1,2),(3,4))\n",
    "print(t4[-1][0])"
   ]
  },
  {
   "cell_type": "markdown",
   "id": "13eb9e26-db11-4d5b-80a3-57b7732eff64",
   "metadata": {},
   "source": [
    "## Key Differences from Lists"
   ]
  },
  {
   "cell_type": "raw",
   "id": "a3c64611-ff0c-4a29-add8-0ea8af0bc709",
   "metadata": {},
   "source": [
    "\n",
    "The biggest difference between tuples and lists is that tuples are immutable. This means once a tuple is created, you cannot change it."
   ]
  },
  {
   "cell_type": "markdown",
   "id": "97f29c80-43ad-46c7-9ecc-d4f380503e2d",
   "metadata": {},
   "source": [
    "### Editing:"
   ]
  },
  {
   "cell_type": "code",
   "execution_count": 27,
   "id": "dfb24686-ee0f-496f-a22f-e698ca28c1ec",
   "metadata": {},
   "outputs": [
    {
     "ename": "TypeError",
     "evalue": "'tuple' object does not support item assignment",
     "output_type": "error",
     "traceback": [
      "\u001b[1;31m---------------------------------------------------------------------------\u001b[0m",
      "\u001b[1;31mTypeError\u001b[0m                                 Traceback (most recent call last)",
      "Cell \u001b[1;32mIn[27], line 2\u001b[0m\n\u001b[0;32m      1\u001b[0m t2 \u001b[38;5;241m=\u001b[39m (\u001b[38;5;241m1\u001b[39m,\u001b[38;5;241m2\u001b[39m,\u001b[38;5;241m3\u001b[39m)\n\u001b[1;32m----> 2\u001b[0m t2[\u001b[38;5;241m0\u001b[39m] \u001b[38;5;241m=\u001b[39m \u001b[38;5;241m100\u001b[39m\n",
      "\u001b[1;31mTypeError\u001b[0m: 'tuple' object does not support item assignment"
     ]
    }
   ],
   "source": [
    "t2 = (1,2,3)\n",
    "t2[0] = 100"
   ]
  },
  {
   "cell_type": "markdown",
   "id": "28bea6a0-9b5e-4691-a714-11c5317f3764",
   "metadata": {},
   "source": [
    "### Adding Items:"
   ]
  },
  {
   "cell_type": "markdown",
   "id": "99ae4d6a-9c3d-4eba-a1ba-863cc3b4a698",
   "metadata": {},
   "source": [
    "### Deleting Items:"
   ]
  },
  {
   "cell_type": "code",
   "execution_count": 34,
   "id": "d85fd337-e17f-4e83-b43e-3b42bed9b4bb",
   "metadata": {},
   "outputs": [
    {
     "ename": "NameError",
     "evalue": "name 't2' is not defined",
     "output_type": "error",
     "traceback": [
      "\u001b[1;31m---------------------------------------------------------------------------\u001b[0m",
      "\u001b[1;31mNameError\u001b[0m                                 Traceback (most recent call last)",
      "Cell \u001b[1;32mIn[34], line 2\u001b[0m\n\u001b[0;32m      1\u001b[0m \u001b[38;5;28;01mdel\u001b[39;00m t2 \n\u001b[1;32m----> 2\u001b[0m \u001b[38;5;28;01mdel\u001b[39;00m t2[\u001b[38;5;241m-\u001b[39m\u001b[38;5;241m1\u001b[39m]\n",
      "\u001b[1;31mNameError\u001b[0m: name 't2' is not defined"
     ]
    }
   ],
   "source": [
    "del t2 \n",
    "del t2[-1]"
   ]
  },
  {
   "cell_type": "markdown",
   "id": "10657227-b84e-4349-904b-d4441ee39ed6",
   "metadata": {},
   "source": [
    "## Operations on Tuples"
   ]
  },
  {
   "cell_type": "markdown",
   "id": "759a9c1e-60fe-4de6-affc-cb872e831aaa",
   "metadata": {},
   "source": [
    "### Concatenation:"
   ]
  },
  {
   "cell_type": "code",
   "execution_count": 37,
   "id": "7e174706-a976-4f81-b539-75f3b6498be2",
   "metadata": {},
   "outputs": [],
   "source": [
    "t7 = t2 +t3"
   ]
  },
  {
   "cell_type": "markdown",
   "id": "72cbef6e-a100-4470-9ce5-bf1d4a08c8f4",
   "metadata": {},
   "source": [
    "### Repetition:"
   ]
  },
  {
   "cell_type": "code",
   "execution_count": 38,
   "id": "d35b5801-be71-4921-a5d6-68b2359a4e8a",
   "metadata": {},
   "outputs": [],
   "source": [
    "t8 = t2 *3"
   ]
  },
  {
   "cell_type": "markdown",
   "id": "f7e101a1-d556-4b74-8f82-c5f4c5f704ec",
   "metadata": {},
   "source": [
    "## Looping:"
   ]
  },
  {
   "cell_type": "code",
   "execution_count": 40,
   "id": "c5bc1933-e34e-4885-9043-79271a784da8",
   "metadata": {},
   "outputs": [
    {
     "name": "stdout",
     "output_type": "stream",
     "text": [
      "1\n",
      "2\n",
      "3\n",
      "4\n",
      "5\n"
     ]
    }
   ],
   "source": [
    "for item in t2:\n",
    "    print(item)"
   ]
  },
  {
   "cell_type": "markdown",
   "id": "4768920c-ca8b-45b8-a40c-82d592f2cf64",
   "metadata": {},
   "source": [
    "### Membership:"
   ]
  },
  {
   "cell_type": "code",
   "execution_count": 41,
   "id": "0b3b84aa-5de7-423c-becb-f57ce36a3e9d",
   "metadata": {},
   "outputs": [
    {
     "name": "stdout",
     "output_type": "stream",
     "text": [
      "True\n"
     ]
    }
   ],
   "source": [
    "print(1 in t2)"
   ]
  },
  {
   "cell_type": "markdown",
   "id": "48bbec23-e788-487c-a160-88f825dcd46a",
   "metadata": {},
   "source": [
    "## Functions on Tuples"
   ]
  },
  {
   "cell_type": "markdown",
   "id": "90d4b265-112f-4af1-a44e-f53183768dfd",
   "metadata": {},
   "source": [
    "### Length:"
   ]
  },
  {
   "cell_type": "code",
   "execution_count": 42,
   "id": "76cd5b78-17aa-4152-b8fa-936a88da71c8",
   "metadata": {},
   "outputs": [
    {
     "name": "stdout",
     "output_type": "stream",
     "text": [
      "5\n"
     ]
    }
   ],
   "source": [
    "print(len(t2))"
   ]
  },
  {
   "cell_type": "markdown",
   "id": "34889204-5df0-4468-b0f9-cc68811896a0",
   "metadata": {},
   "source": [
    "### Minimum and Maximum:"
   ]
  },
  {
   "cell_type": "code",
   "execution_count": 44,
   "id": "db30e1d8-9ff7-46eb-92d3-f60b834cb5f1",
   "metadata": {},
   "outputs": [
    {
     "name": "stdout",
     "output_type": "stream",
     "text": [
      "1\n",
      "5\n"
     ]
    }
   ],
   "source": [
    "print(min(t2))\n",
    "print(max(t2))"
   ]
  },
  {
   "cell_type": "markdown",
   "id": "81502aca-28bb-4349-b8d6-c98dfb1ab0b5",
   "metadata": {},
   "source": [
    "### Sum:"
   ]
  },
  {
   "cell_type": "code",
   "execution_count": 45,
   "id": "846b5a37-49e8-4937-a376-bae3c30fc918",
   "metadata": {},
   "outputs": [
    {
     "name": "stdout",
     "output_type": "stream",
     "text": [
      "15\n"
     ]
    }
   ],
   "source": [
    "print(sum(t2))"
   ]
  },
  {
   "cell_type": "markdown",
   "id": "ad54e5c5-d5f2-4f05-8dc6-32f65407a369",
   "metadata": {},
   "source": [
    "### Sorting:"
   ]
  },
  {
   "cell_type": "code",
   "execution_count": 46,
   "id": "932c24de-2c4c-448e-92ad-226521b94271",
   "metadata": {},
   "outputs": [
    {
     "name": "stdout",
     "output_type": "stream",
     "text": [
      "[1, 2, 3, 4, 5]\n"
     ]
    }
   ],
   "source": [
    "sorted_t2 = sorted(t2)\n",
    "print(sorted_t2)"
   ]
  },
  {
   "cell_type": "markdown",
   "id": "118dd4c0-9886-4c64-a93a-3ed80b490a9e",
   "metadata": {},
   "source": [
    "### Practical Example: Integrity of Data"
   ]
  },
  {
   "cell_type": "code",
   "execution_count": 47,
   "id": "87dc6736-6996-4cfe-b2e8-13f164a0f40f",
   "metadata": {},
   "outputs": [
    {
     "ename": "TypeError",
     "evalue": "'tuple' object does not support item assignment",
     "output_type": "error",
     "traceback": [
      "\u001b[1;31m---------------------------------------------------------------------------\u001b[0m",
      "\u001b[1;31mTypeError\u001b[0m                                 Traceback (most recent call last)",
      "Cell \u001b[1;32mIn[47], line 3\u001b[0m\n\u001b[0;32m      1\u001b[0m grades \u001b[38;5;241m=\u001b[39m (\u001b[38;5;241m6.5\u001b[39m, \u001b[38;5;241m7.0\u001b[39m, \u001b[38;5;241m8.0\u001b[39m)\n\u001b[0;32m      2\u001b[0m \u001b[38;5;66;03m# Attempting to change a grade\u001b[39;00m\n\u001b[1;32m----> 3\u001b[0m grades[\u001b[38;5;241m0\u001b[39m] \u001b[38;5;241m=\u001b[39m \u001b[38;5;241m8.5\u001b[39m\n",
      "\u001b[1;31mTypeError\u001b[0m: 'tuple' object does not support item assignment"
     ]
    }
   ],
   "source": [
    "grades = (6.5, 7.0, 8.0)\n",
    "# Attempting to change a grade\n",
    "grades[0] = 8.5 "
   ]
  },
  {
   "cell_type": "code",
   "execution_count": null,
   "id": "240ad5ce-7bbf-4b90-bdfc-3df06f7b609e",
   "metadata": {},
   "outputs": [],
   "source": []
  }
 ],
 "metadata": {
  "kernelspec": {
   "display_name": "Python 3 (ipykernel)",
   "language": "python",
   "name": "python3"
  },
  "language_info": {
   "codemirror_mode": {
    "name": "ipython",
    "version": 3
   },
   "file_extension": ".py",
   "mimetype": "text/x-python",
   "name": "python",
   "nbconvert_exporter": "python",
   "pygments_lexer": "ipython3",
   "version": "3.11.7"
  }
 },
 "nbformat": 4,
 "nbformat_minor": 5
}
