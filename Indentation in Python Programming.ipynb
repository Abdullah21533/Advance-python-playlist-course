{
 "cells": [
  {
   "cell_type": "markdown",
   "id": "f393e414-1937-4ec8-b2ef-e07dc0154074",
   "metadata": {},
   "source": [
    "# Indentation in Python Programming"
   ]
  },
  {
   "cell_type": "markdown",
   "id": "0ad70c79-37e8-4498-8615-2babf56de3f6",
   "metadata": {},
   "source": [
    "## Indentation in C"
   ]
  },
  {
   "cell_type": "code",
   "execution_count": null,
   "id": "161611c2-924b-4fcd-bf3f-dcaf362b683a",
   "metadata": {},
   "outputs": [],
   "source": [
    "if (name == \"xyz\"){\n",
    "    // code block for true condition\n",
    "} else {\n",
    "    // code block for false condition\n",
    "}"
   ]
  },
  {
   "cell_type": "markdown",
   "id": "ffba6ae4-2bc9-42d7-81ea-3a5eefab5313",
   "metadata": {},
   "source": [
    "### Indentation in Python"
   ]
  },
  {
   "cell_type": "code",
   "execution_count": 11,
   "id": "8b7d1f30-c233-4e40-8b62-62451d6b578d",
   "metadata": {},
   "outputs": [
    {
     "ename": "IndentationError",
     "evalue": "expected an indented block after 'if' statement on line 2 (2898294864.py, line 4)",
     "output_type": "error",
     "traceback": [
      "\u001b[1;36m  Cell \u001b[1;32mIn[11], line 4\u001b[1;36m\u001b[0m\n\u001b[1;33m    else:\u001b[0m\n\u001b[1;37m    ^\u001b[0m\n\u001b[1;31mIndentationError\u001b[0m\u001b[1;31m:\u001b[0m expected an indented block after 'if' statement on line 2\n"
     ]
    }
   ],
   "source": [
    "name = \"xyz\"\n",
    "if name == \"xyz\":\n",
    "    # code block for true condition\n",
    "else:\n",
    "    #code block for false condition"
   ]
  },
  {
   "cell_type": "markdown",
   "id": "3ecea308-e64b-42dc-8680-d5f69e224a78",
   "metadata": {},
   "source": [
    "### Correcting Indentation Errors"
   ]
  },
  {
   "cell_type": "code",
   "execution_count": 12,
   "id": "05aa6c43-71ff-426d-b339-8c4023d1118d",
   "metadata": {},
   "outputs": [
    {
     "name": "stdout",
     "output_type": "stream",
     "text": [
      "Name is xyz\n"
     ]
    }
   ],
   "source": [
    "name  = \"xyz\"\n",
    "if name == \"xyz\":\n",
    "    print(\"Name is xyz\") # This line is indented correctly\n",
    "else:\n",
    "    print(\"Name is not xyz\") # This line is also intented correctly\n"
   ]
  },
  {
   "cell_type": "code",
   "execution_count": 14,
   "id": "c76a787e-f4f6-49b1-b703-fee81bd78961",
   "metadata": {},
   "outputs": [
    {
     "ename": "IndentationError",
     "evalue": "expected an indented block after 'if' statement on line 1 (1400437198.py, line 2)",
     "output_type": "error",
     "traceback": [
      "\u001b[1;36m  Cell \u001b[1;32mIn[14], line 2\u001b[1;36m\u001b[0m\n\u001b[1;33m    print(\"Name is xyz\") # Missing indentation here will cause an error\u001b[0m\n\u001b[1;37m    ^\u001b[0m\n\u001b[1;31mIndentationError\u001b[0m\u001b[1;31m:\u001b[0m expected an indented block after 'if' statement on line 1\n"
     ]
    }
   ],
   "source": [
    "if name == \"xyz\":\n",
    "print(\"Name is xyz\") # Missing indentation here will cause an error\n",
    "else: \n",
    "print(\"Name is not xyz\")\n"
   ]
  },
  {
   "cell_type": "markdown",
   "id": "c5d7f9b6-781c-416f-a4bd-e5b32e33e012",
   "metadata": {},
   "source": [
    "### Proper Indentation"
   ]
  },
  {
   "cell_type": "code",
   "execution_count": 15,
   "id": "a20f00ae-6cdf-4680-90e2-b92ce5107a86",
   "metadata": {},
   "outputs": [
    {
     "name": "stdout",
     "output_type": "stream",
     "text": [
      "Adult name xyz\n"
     ]
    }
   ],
   "source": [
    "age = 20\n",
    "if name == \"xyz\":\n",
    "    if age > 18:\n",
    "        print(\"Adult name xyz\")\n",
    "    else:\n",
    "        print(\"Minor named xyz\")\n",
    "else:\n",
    "    print(\"Name is not xyz\")\n",
    "    "
   ]
  },
  {
   "cell_type": "markdown",
   "id": "704029e1-5001-4fb6-9a34-1b8cae90d0dd",
   "metadata": {},
   "source": [
    "### Nested Blocks in Python"
   ]
  },
  {
   "cell_type": "code",
   "execution_count": null,
   "id": "76046bbf-7512-4fa6-994b-57335a6ad653",
   "metadata": {},
   "outputs": [],
   "source": []
  },
  {
   "cell_type": "code",
   "execution_count": null,
   "id": "0c30ca13-9f51-401d-b2b3-6c18773be1f1",
   "metadata": {},
   "outputs": [],
   "source": []
  }
 ],
 "metadata": {
  "kernelspec": {
   "display_name": "Python 3 (ipykernel)",
   "language": "python",
   "name": "python3"
  },
  "language_info": {
   "codemirror_mode": {
    "name": "ipython",
    "version": 3
   },
   "file_extension": ".py",
   "mimetype": "text/x-python",
   "name": "python",
   "nbconvert_exporter": "python",
   "pygments_lexer": "ipython3",
   "version": "3.11.7"
  }
 },
 "nbformat": 4,
 "nbformat_minor": 5
}
