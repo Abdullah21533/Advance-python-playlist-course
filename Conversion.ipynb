{
 "cells": [
  {
   "cell_type": "markdown",
   "id": "e2bd4cf4-4325-4b44-8605-a151ee6b0031",
   "metadata": {},
   "source": [
    "# Type of Conversion in python"
   ]
  },
  {
   "cell_type": "markdown",
   "id": "e4652fe1-6ff4-4046-9173-1def2ec23fdf",
   "metadata": {},
   "source": [
    "### Implicit Type Conversion"
   ]
  },
  {
   "cell_type": "code",
   "execution_count": 1,
   "id": "090eb19b-073a-4d88-afb8-b91df4f2c270",
   "metadata": {},
   "outputs": [
    {
     "name": "stdout",
     "output_type": "stream",
     "text": [
      "9.5\n"
     ]
    }
   ],
   "source": [
    "result = 4 + 5.5\n",
    "print(result)"
   ]
  },
  {
   "cell_type": "code",
   "execution_count": 2,
   "id": "e0c2ac1e-0df5-4df6-a3a1-e691dc957e67",
   "metadata": {},
   "outputs": [
    {
     "name": "stdout",
     "output_type": "stream",
     "text": [
      "(11+7j)\n"
     ]
    }
   ],
   "source": [
    "result = 5 + 6 + 7j\n",
    "print(result)"
   ]
  },
  {
   "cell_type": "markdown",
   "id": "93680f61-244b-47bb-96ec-64fed5ab116b",
   "metadata": {},
   "source": [
    "## Explicit Type Conversion"
   ]
  },
  {
   "cell_type": "code",
   "execution_count": 3,
   "id": "887a444c-2852-439b-bda8-f0fcdb83fd4f",
   "metadata": {},
   "outputs": [
    {
     "name": "stdout",
     "output_type": "stream",
     "text": [
      "45\n"
     ]
    }
   ],
   "source": [
    "num = int(\"45\")\n",
    "print(num)"
   ]
  },
  {
   "cell_type": "code",
   "execution_count": 4,
   "id": "8980e824-3e39-4566-a100-897a86785d3a",
   "metadata": {},
   "outputs": [
    {
     "name": "stdout",
     "output_type": "stream",
     "text": [
      "4.5\n"
     ]
    }
   ],
   "source": [
    "float_num = float(\"4.5\")\n",
    "print(float_num)"
   ]
  },
  {
   "cell_type": "code",
   "execution_count": 5,
   "id": "27031b8a-b32b-498d-8cf4-a516d74b0213",
   "metadata": {},
   "outputs": [
    {
     "name": "stdout",
     "output_type": "stream",
     "text": [
      "4\n",
      "4.5\n"
     ]
    }
   ],
   "source": [
    "a = 4.5\n",
    "b = int(a)\n",
    "print(b)\n",
    "print(a)"
   ]
  },
  {
   "cell_type": "markdown",
   "id": "94c5f96d-84a0-4905-85ec-cc47b3a2741c",
   "metadata": {},
   "source": [
    "## Correction Our Program"
   ]
  },
  {
   "cell_type": "markdown",
   "id": "79b505f6-bf83-4996-8c2b-d18f649507f4",
   "metadata": {},
   "source": [
    "### Original program:"
   ]
  },
  {
   "cell_type": "code",
   "execution_count": 11,
   "id": "69658d5e-1ad0-401d-b2f2-3631cc86b0e9",
   "metadata": {},
   "outputs": [
    {
     "name": "stdin",
     "output_type": "stream",
     "text": [
      "Enter the first number:  1\n",
      "Enter the second number:  e\n"
     ]
    },
    {
     "name": "stdout",
     "output_type": "stream",
     "text": [
      "This result is 1e\n"
     ]
    }
   ],
   "source": [
    "first_num = input(\"Enter the first number: \")\n",
    "second_num = input(\"Enter the second number: \")\n",
    "result = first_num + second_num\n",
    "print(\"This result is\", result)\n"
   ]
  },
  {
   "cell_type": "markdown",
   "id": "4d66ce1b-e62d-4ac2-8544-0131163a3ca1",
   "metadata": {},
   "source": [
    "### Corrected program"
   ]
  },
  {
   "cell_type": "code",
   "execution_count": 12,
   "id": "59399d84-af38-49a0-ac47-6095268bd2c0",
   "metadata": {},
   "outputs": [
    {
     "name": "stdin",
     "output_type": "stream",
     "text": [
      "Enter the first number:  1\n",
      "Enter the second number:  3\n"
     ]
    },
    {
     "name": "stdout",
     "output_type": "stream",
     "text": [
      "This result is 4\n"
     ]
    }
   ],
   "source": [
    "first_num = int(input(\"Enter the first number: \"))\n",
    "second_num = int(input(\"Enter the second number: \"))\n",
    "result = first_num + second_num\n",
    "print(\"This result is\", result)\n"
   ]
  },
  {
   "cell_type": "code",
   "execution_count": 14,
   "id": "b882b5bb-599b-406a-a4f5-3843850b0f99",
   "metadata": {},
   "outputs": [
    {
     "name": "stdin",
     "output_type": "stream",
     "text": [
      "Enter the first number:  3\n",
      "Enter the second number:  4\n"
     ]
    },
    {
     "name": "stdout",
     "output_type": "stream",
     "text": [
      "This result is 7.0\n"
     ]
    }
   ],
   "source": [
    "first_num = float(input(\"Enter the first number: \"))\n",
    "second_num = float(input(\"Enter the second number: \"))\n",
    "result = first_num + second_num\n",
    "print(\"This result is\", result)\n"
   ]
  },
  {
   "cell_type": "code",
   "execution_count": null,
   "id": "19c382d4-1a58-4cb3-98c1-e30340c0f6c5",
   "metadata": {},
   "outputs": [],
   "source": []
  }
 ],
 "metadata": {
  "kernelspec": {
   "display_name": "Python 3 (ipykernel)",
   "language": "python",
   "name": "python3"
  },
  "language_info": {
   "codemirror_mode": {
    "name": "ipython",
    "version": 3
   },
   "file_extension": ".py",
   "mimetype": "text/x-python",
   "name": "python",
   "nbconvert_exporter": "python",
   "pygments_lexer": "ipython3",
   "version": "3.11.7"
  }
 },
 "nbformat": 4,
 "nbformat_minor": 5
}
