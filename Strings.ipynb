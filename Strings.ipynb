{
 "cells": [
  {
   "cell_type": "markdown",
   "id": "ebe6a85f-cd20-4a7e-ad94-0fd8f55ed724",
   "metadata": {},
   "source": [
    "# Strings"
   ]
  },
  {
   "cell_type": "markdown",
   "id": "edee7950-8d2f-4d99-aa46-a37deb30a94e",
   "metadata": {},
   "source": [
    "### Using Single or Double Quotes:"
   ]
  },
  {
   "cell_type": "code",
   "execution_count": 1,
   "id": "d1c30723-480e-47d8-bd37-a0d7db21aeec",
   "metadata": {},
   "outputs": [],
   "source": [
    "single_quote_string = 'Hello, World!'\n",
    "double_quote_string = \"Hello, World!\""
   ]
  },
  {
   "cell_type": "markdown",
   "id": "11d30c40-caa9-4138-ab5c-d6c7a2eddee2",
   "metadata": {},
   "source": [
    "### Handling Quotes Inside Strings:"
   ]
  },
  {
   "cell_type": "code",
   "execution_count": 2,
   "id": "25bc9727-af90-46d1-8a21-7feede7fde2f",
   "metadata": {},
   "outputs": [],
   "source": [
    "#Using double quotes outside to include single quote inside\n",
    "sentence1 = \"It's raining outside.\"\n",
    "\n",
    "#using single quotes outside to include double quote inside\n",
    "sentence2 = 'He said, \"Hello!\"'"
   ]
  },
  {
   "cell_type": "markdown",
   "id": "c1d522d5-cbb4-4f4b-8045-856810bfa638",
   "metadata": {},
   "source": [
    "### Using Triple Quotes for Multi-Line Strings:"
   ]
  },
  {
   "cell_type": "code",
   "execution_count": 3,
   "id": "eeff0a7e-b85a-438a-bca8-31ccde525f44",
   "metadata": {},
   "outputs": [],
   "source": [
    "multi_line_text = \"\"\"This is a long string\n",
    "that spans multiple lines.\n",
    "you can write as much as you want here.\"\"\""
   ]
  },
  {
   "cell_type": "markdown",
   "id": "ab11d273-04fe-4eeb-9493-c496d5b3ad8d",
   "metadata": {},
   "source": [
    "### Converting Other Data Types to Strings:"
   ]
  },
  {
   "cell_type": "code",
   "execution_count": 4,
   "id": "ec76e8ba-6a72-44e0-9daa-531246b8b6b3",
   "metadata": {},
   "outputs": [],
   "source": [
    "number = 42\n",
    "string_number = str(number)"
   ]
  },
  {
   "cell_type": "markdown",
   "id": "93e8e29f-b24c-46be-8d88-551fbe18cf29",
   "metadata": {},
   "source": [
    "### Tips and Tricks\n",
    "\n",
    "### Using repr() for Debugging:"
   ]
  },
  {
   "cell_type": "code",
   "execution_count": 5,
   "id": "2bc7f717-a1fe-4e23-acd0-3829945bb1e8",
   "metadata": {},
   "outputs": [
    {
     "name": "stdout",
     "output_type": "stream",
     "text": [
      "'Hello\\nworld'\n"
     ]
    }
   ],
   "source": [
    "text = \"Hello\\nworld\"\n",
    "print(repr(text))"
   ]
  },
  {
   "cell_type": "markdown",
   "id": "34847e18-f545-4b7e-a7af-284bb6068b53",
   "metadata": {},
   "source": [
    "### Using F-Strings for Formatting:"
   ]
  },
  {
   "cell_type": "code",
   "execution_count": 6,
   "id": "1bcb9daa-8360-4dde-9b64-fa393d3ad3de",
   "metadata": {},
   "outputs": [
    {
     "name": "stdout",
     "output_type": "stream",
     "text": [
      "Hello, my name is Alice and i am 10 years old.\n"
     ]
    }
   ],
   "source": [
    "name = \"Alice\"\n",
    "age = 10\n",
    "greeting = f\"Hello, my name is {name} and i am {age} years old.\"\n",
    "print(greeting)"
   ]
  },
  {
   "cell_type": "markdown",
   "id": "a5012124-2b96-4a60-b48a-a2b671766680",
   "metadata": {},
   "source": [
    "### A Fun Way to Use Strings"
   ]
  },
  {
   "cell_type": "code",
   "execution_count": 7,
   "id": "008110da-9b58-4059-9d21-5d77d3b64a9b",
   "metadata": {},
   "outputs": [
    {
     "name": "stdout",
     "output_type": "stream",
     "text": [
      "1. Cat\n",
      "2. Dog\n",
      "3. Elephant\n",
      "4. Girffe\n"
     ]
    }
   ],
   "source": [
    "animals = \"\"\"1. Cat\n",
    "2. Dog\n",
    "3. Elephant\n",
    "4. Girffe\"\"\"\n",
    "print(animals)"
   ]
  },
  {
   "cell_type": "code",
   "execution_count": null,
   "id": "9007bbd8-00bf-47a0-926d-f919f58f36ce",
   "metadata": {},
   "outputs": [],
   "source": []
  }
 ],
 "metadata": {
  "kernelspec": {
   "display_name": "Python 3 (ipykernel)",
   "language": "python",
   "name": "python3"
  },
  "language_info": {
   "codemirror_mode": {
    "name": "ipython",
    "version": 3
   },
   "file_extension": ".py",
   "mimetype": "text/x-python",
   "name": "python",
   "nbconvert_exporter": "python",
   "pygments_lexer": "ipython3",
   "version": "3.11.7"
  }
 },
 "nbformat": 4,
 "nbformat_minor": 5
}
