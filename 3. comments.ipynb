{
 "cells": [
  {
   "cell_type": "markdown",
   "id": "3eb2f499-1c54-49da-9120-07563c3ff228",
   "metadata": {},
   "source": [
    "## Use the hash symbol '#'"
   ]
  },
  {
   "cell_type": "markdown",
   "id": "cc0f9492-538b-4b51-948d-e0cda03f0a3e",
   "metadata": {},
   "source": [
    "## comment"
   ]
  },
  {
   "cell_type": "code",
   "execution_count": 1,
   "id": "620113c7-2652-421e-a976-5801f2ac512c",
   "metadata": {},
   "outputs": [],
   "source": [
    "#This is a comment"
   ]
  },
  {
   "cell_type": "code",
   "execution_count": 2,
   "id": "f7bc7aa4-0cbf-409e-9767-9a87396842c4",
   "metadata": {},
   "outputs": [
    {
     "name": "stdout",
     "output_type": "stream",
     "text": [
      "Hello, World!\n"
     ]
    }
   ],
   "source": [
    "#This is a comment\n",
    "print(\"Hello, World!\") # This print Hello, World! to the console"
   ]
  },
  {
   "cell_type": "markdown",
   "id": "0665d12e-72ea-402d-b809-435ef510c4c6",
   "metadata": {},
   "source": [
    "## Multi-line Comment"
   ]
  },
  {
   "cell_type": "code",
   "execution_count": 3,
   "id": "c19da4ea-6d44-44e5-be40-1818435e7ff4",
   "metadata": {},
   "outputs": [],
   "source": [
    "# This is a multi-line comment\n",
    "# in python. You have to use the hash\n",
    "# symbol at the start of each line."
   ]
  },
  {
   "cell_type": "code",
   "execution_count": 4,
   "id": "7ba882fc-fea1-4cbc-868f-6b466e4317e8",
   "metadata": {},
   "outputs": [
    {
     "data": {
      "text/plain": [
       "\"\\nThis is not a commen.\\nThis i a multi-line string that\\nisn't assigned to any variable.\\n\""
      ]
     },
     "execution_count": 4,
     "metadata": {},
     "output_type": "execute_result"
    }
   ],
   "source": [
    "\"\"\"\n",
    "This is not a commen.\n",
    "This i a multi-line string that\n",
    "isn't assigned to any variable.\n",
    "\"\"\""
   ]
  },
  {
   "cell_type": "markdown",
   "id": "dc4c73de-6327-4205-8933-9f852abdd4e7",
   "metadata": {},
   "source": [
    "### Describing a function "
   ]
  },
  {
   "cell_type": "code",
   "execution_count": 5,
   "id": "b6b8f4ca-0f3c-43f6-a933-e2c95887150c",
   "metadata": {},
   "outputs": [],
   "source": [
    "def add (a,b):\n",
    "    # This function adds two numbers and returns the result\n",
    "    return a + b"
   ]
  },
  {
   "cell_type": "markdown",
   "id": "d62ac936-4a33-4566-aad4-fe5585bc3457",
   "metadata": {},
   "source": [
    "### Marking a To-Do"
   ]
  },
  {
   "cell_type": "code",
   "execution_count": 6,
   "id": "94290ea7-f200-4fd6-920f-cf5dc21cfb2a",
   "metadata": {},
   "outputs": [],
   "source": [
    "def calculate_discount(price):\n",
    "    # TODO: implement discount calculation logic\n",
    "    pass"
   ]
  },
  {
   "cell_type": "code",
   "execution_count": 8,
   "id": "254b3473-ec2f-425d-abaf-ad949696005a",
   "metadata": {},
   "outputs": [],
   "source": [
    "# comments are also useful for explaining complex logic:              "
   ]
  },
  {
   "cell_type": "code",
   "execution_count": 9,
   "id": "fd629d55-538b-4761-8173-5626457259b7",
   "metadata": {},
   "outputs": [],
   "source": [
    "def is_prime(num):\n",
    "    # Check if num is less than 2, then it is not a prime number\n",
    "    if num < 2:\n",
    "        return False\n",
    "    # Check factor from 2 to sqr(num)\n",
    "    for i in range(2, int(num**0.5)+1):\n",
    "        if num % i == 0:\n",
    "            return False\n",
    "    return True\n",
    "            "
   ]
  },
  {
   "cell_type": "markdown",
   "id": "14a8f498-6e4c-4f80-ab76-16c530770961",
   "metadata": {},
   "source": [
    "### Temporarily disable"
   ]
  },
  {
   "cell_type": "code",
   "execution_count": 12,
   "id": "a10f47d0-ae30-426b-b324-756cfb2064c2",
   "metadata": {},
   "outputs": [
    {
     "name": "stdout",
     "output_type": "stream",
     "text": [
      "This line will run\n"
     ]
    }
   ],
   "source": [
    "#print(\"This line is disable and run won't rum\")\n",
    "print(\"This line will run\")"
   ]
  },
  {
   "cell_type": "code",
   "execution_count": null,
   "id": "da29a052-2179-464b-9a50-8656a69cb6e6",
   "metadata": {},
   "outputs": [],
   "source": []
  }
 ],
 "metadata": {
  "kernelspec": {
   "display_name": "Python 3 (ipykernel)",
   "language": "python",
   "name": "python3"
  },
  "language_info": {
   "codemirror_mode": {
    "name": "ipython",
    "version": 3
   },
   "file_extension": ".py",
   "mimetype": "text/x-python",
   "name": "python",
   "nbconvert_exporter": "python",
   "pygments_lexer": "ipython3",
   "version": "3.11.7"
  }
 },
 "nbformat": 4,
 "nbformat_minor": 5
}
