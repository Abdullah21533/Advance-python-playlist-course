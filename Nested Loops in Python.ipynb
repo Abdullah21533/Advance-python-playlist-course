{
 "cells": [
  {
   "cell_type": "markdown",
   "id": "4756cdd3-12f8-47d5-a524-cbda85e4c016",
   "metadata": {},
   "source": [
    "# Nested Loops in Python"
   ]
  },
  {
   "cell_type": "code",
   "execution_count": 2,
   "id": "48583ce1-139a-4f6d-bcf6-7b1de59a77f0",
   "metadata": {},
   "outputs": [
    {
     "name": "stdin",
     "output_type": "stream",
     "text": [
      "Enter the number of rows:  6\n"
     ]
    },
    {
     "name": "stdout",
     "output_type": "stream",
     "text": [
      "*\n",
      "**\n",
      "***\n",
      "****\n",
      "*****\n",
      "******\n"
     ]
    }
   ],
   "source": [
    "# Ask the user for the number of rows\n",
    "row  = int(input(\"Enter the number of rows: \"))\n",
    "\n",
    "# outer loop for each row\n",
    "for i in range(1, row + 1):\n",
    "    # inner loop for printing asterisks\n",
    "    for j in range(i):\n",
    "        print(\"*\", end = \"\")\n",
    "    # print a new line after each row\n",
    "    print()"
   ]
  },
  {
   "cell_type": "markdown",
   "id": "d5c40a1a-1031-47d2-9fde-57b617b80ddd",
   "metadata": {},
   "source": [
    "### Multiplication Table"
   ]
  },
  {
   "cell_type": "code",
   "execution_count": null,
   "id": "e410a4e5-5afb-4ec1-81fd-beb08dd16554",
   "metadata": {},
   "outputs": [],
   "source": [
    "# Ask the user for the size of the multiplication table\n",
    "size = int(input(\"Enter the size of the multiplication table\"))\n",
    "# outer loop for rows\n",
    "for i in range (1, size + 1):\n",
    "    # inner loop for columns\n",
    "    for j in range (1, size + 1):\n",
    "        print(f\"{i * j:4}\", end = \"\")\n",
    "    # print a new line after each row\n",
    "    print()"
   ]
  },
  {
   "cell_type": "code",
   "execution_count": null,
   "id": "137d2360-20bc-41ea-80e3-7fda21c3c943",
   "metadata": {},
   "outputs": [],
   "source": []
  }
 ],
 "metadata": {
  "kernelspec": {
   "display_name": "Python 3 (ipykernel)",
   "language": "python",
   "name": "python3"
  },
  "language_info": {
   "codemirror_mode": {
    "name": "ipython",
    "version": 3
   },
   "file_extension": ".py",
   "mimetype": "text/x-python",
   "name": "python",
   "nbconvert_exporter": "python",
   "pygments_lexer": "ipython3",
   "version": "3.11.7"
  }
 },
 "nbformat": 4,
 "nbformat_minor": 5
}
