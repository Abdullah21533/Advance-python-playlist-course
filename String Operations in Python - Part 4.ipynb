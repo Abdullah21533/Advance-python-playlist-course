{
 "cells": [
  {
   "cell_type": "markdown",
   "id": "b701362e-664c-4de5-a07f-8632961718d4",
   "metadata": {},
   "source": [
    "# String Operations in Python - Part 4"
   ]
  },
  {
   "cell_type": "markdown",
   "id": "d5e7d33a-d4fa-42bc-bc51-1a2e5392664b",
   "metadata": {},
   "source": [
    "### Arithmetic Operators"
   ]
  },
  {
   "cell_type": "markdown",
   "id": "9fdfba7d-7c56-4477-9599-ad75d62e2108",
   "metadata": {},
   "source": [
    "### Concatenation with Plus Operator (+):"
   ]
  },
  {
   "cell_type": "code",
   "execution_count": 3,
   "id": "0da1a469-3580-48e9-9d9c-bd0363d30524",
   "metadata": {},
   "outputs": [
    {
     "name": "stdout",
     "output_type": "stream",
     "text": [
      "Hello World\n"
     ]
    }
   ],
   "source": [
    "str1 = \"Hello\"\n",
    "str2 = \"World\"\n",
    "result = str1 + \" \"+ str2\n",
    "print(result)"
   ]
  },
  {
   "cell_type": "markdown",
   "id": "5ab307d8-2c0a-4474-bb11-fcc74d55adc4",
   "metadata": {},
   "source": [
    "### Multiplication with Asterisk Operator (*):"
   ]
  },
  {
   "cell_type": "code",
   "execution_count": 4,
   "id": "03bc1141-90c0-46ed-b41b-7b04a6d747e4",
   "metadata": {},
   "outputs": [
    {
     "name": "stdout",
     "output_type": "stream",
     "text": [
      "HelloHelloHello\n"
     ]
    }
   ],
   "source": [
    "str1 = \"Hello\"\n",
    "result = str1*3\n",
    "print(result)"
   ]
  },
  {
   "cell_type": "markdown",
   "id": "b13a8763-983a-4550-ba5b-1a89401b8263",
   "metadata": {},
   "source": [
    "### Relational Operators"
   ]
  },
  {
   "cell_type": "raw",
   "id": "b9d14f72-495b-4e3a-9935-4c8d1b620af9",
   "metadata": {},
   "source": [
    "Relational operators compare strings. These include >, <, ==, !=, etc."
   ]
  },
  {
   "cell_type": "code",
   "execution_count": 7,
   "id": "3a9ae11d-c45f-4502-baef-e51100c115f3",
   "metadata": {},
   "outputs": [
    {
     "name": "stdout",
     "output_type": "stream",
     "text": [
      "False\n",
      "True\n",
      "True\n"
     ]
    }
   ],
   "source": [
    "print(\"Hello\" == \"World\")\n",
    "print(\"Hello\" != \"World\")\n",
    "print(\"Apple\" < \"Banana\")"
   ]
  },
  {
   "cell_type": "markdown",
   "id": "4ac13fea-6a87-4d03-88f2-0eddba4319de",
   "metadata": {},
   "source": [
    "### Logical Operators\n",
    "Logical operators (and, or, not) can also be used with strings. Empty strings are considered False, and non-empty strings are True."
   ]
  },
  {
   "cell_type": "code",
   "execution_count": 10,
   "id": "e369c456-3f14-4191-a40f-26f2a088f54d",
   "metadata": {},
   "outputs": [
    {
     "name": "stdout",
     "output_type": "stream",
     "text": [
      "\n",
      "Hello\n",
      "False\n"
     ]
    }
   ],
   "source": [
    "print(\"\"and \"Hello\")\n",
    "print(\"Hello\" or \"\")\n",
    "print(not \"Hello\")"
   ]
  },
  {
   "cell_type": "markdown",
   "id": "398103b5-25fb-4761-addd-5c3f703883b6",
   "metadata": {},
   "source": [
    "### Loops"
   ]
  },
  {
   "cell_type": "code",
   "execution_count": 11,
   "id": "aebc2f1e-76ce-44c0-b146-3a80afcabe12",
   "metadata": {},
   "outputs": [
    {
     "name": "stdout",
     "output_type": "stream",
     "text": [
      "H\n",
      "e\n",
      "l\n",
      "l\n",
      "o\n",
      " \n",
      "W\n",
      "o\n",
      "r\n",
      "l\n",
      "d\n"
     ]
    }
   ],
   "source": [
    "str1 = \"Hello World\"\n",
    "for char in str1:\n",
    "    print(char)"
   ]
  },
  {
   "cell_type": "code",
   "execution_count": 13,
   "id": "34a3e8e9-5cc0-4df6-aa2f-97b0185bf93a",
   "metadata": {},
   "outputs": [
    {
     "name": "stdout",
     "output_type": "stream",
     "text": [
      "llo W\n",
      "dlroW olleH\n"
     ]
    }
   ],
   "source": [
    "str1 = \"Hello World\"\n",
    "print(str1[2:7])\n",
    "print(str1[::-1])"
   ]
  },
  {
   "cell_type": "markdown",
   "id": "9b7ad34a-1c69-42f5-bf2b-945cae51df5b",
   "metadata": {},
   "source": [
    "### Membership Operators"
   ]
  },
  {
   "cell_type": "code",
   "execution_count": 16,
   "id": "eef44738-fa6c-4844-8ac1-b29bec56db79",
   "metadata": {},
   "outputs": [
    {
     "name": "stdout",
     "output_type": "stream",
     "text": [
      "True\n",
      "False\n",
      "False\n"
     ]
    }
   ],
   "source": [
    "str1 = \"Hello World\"\n",
    "print(\"H\" in str1)\n",
    "print(\"h\" in str1)\n",
    "print(\"World\" not in str1)"
   ]
  },
  {
   "cell_type": "markdown",
   "id": "d5075f53-2894-46ba-a493-a020745ef0ac",
   "metadata": {},
   "source": [
    "### Additional Tips and Tricks\n",
    "String Formatting:"
   ]
  },
  {
   "cell_type": "code",
   "execution_count": 18,
   "id": "20972d2b-a50e-471c-9e01-67adc9b5dd96",
   "metadata": {},
   "outputs": [
    {
     "name": "stdout",
     "output_type": "stream",
     "text": [
      "my name is John and I am 25 years old.\n"
     ]
    }
   ],
   "source": [
    "name = \"John\"\n",
    "age = 25\n",
    "print(f\"my name is {name} and I am {age} years old.\")"
   ]
  },
  {
   "cell_type": "markdown",
   "id": "955ed4a2-2cf0-4367-91e9-7659f8dc1b55",
   "metadata": {},
   "source": [
    "#### Removing Whitespace:"
   ]
  },
  {
   "cell_type": "code",
   "execution_count": 19,
   "id": "d31d91bb-19a9-46b1-857e-6311cfb79847",
   "metadata": {},
   "outputs": [
    {
     "name": "stdout",
     "output_type": "stream",
     "text": [
      "hello\n"
     ]
    }
   ],
   "source": [
    "str1 = \"  hello   \"\n",
    "print(str1.strip())"
   ]
  },
  {
   "cell_type": "markdown",
   "id": "0194a877-ba35-4a74-902b-9e78d0c55903",
   "metadata": {},
   "source": [
    "#### Case Conversion"
   ]
  },
  {
   "cell_type": "code",
   "execution_count": 21,
   "id": "d74e155b-29c9-4d3b-9ae8-3979f517e84c",
   "metadata": {},
   "outputs": [
    {
     "name": "stdout",
     "output_type": "stream",
     "text": [
      "HELLO WORLD\n"
     ]
    }
   ],
   "source": [
    "str1 = \"hello world\"\n",
    "print(str1.upper())"
   ]
  },
  {
   "cell_type": "markdown",
   "id": "9df2e8fe-5864-4cfc-a39f-44d7c13be284",
   "metadata": {},
   "source": [
    "#### Finding Substrings:"
   ]
  },
  {
   "cell_type": "code",
   "execution_count": null,
   "id": "193ff2ac-8207-4961-8304-c19a7611ce35",
   "metadata": {},
   "outputs": [],
   "source": [
    "str1 = \"Hello World\"\n",
    "print(str1.find)"
   ]
  }
 ],
 "metadata": {
  "kernelspec": {
   "display_name": "Python 3 (ipykernel)",
   "language": "python",
   "name": "python3"
  },
  "language_info": {
   "codemirror_mode": {
    "name": "ipython",
    "version": 3
   },
   "file_extension": ".py",
   "mimetype": "text/x-python",
   "name": "python",
   "nbconvert_exporter": "python",
   "pygments_lexer": "ipython3",
   "version": "3.11.7"
  }
 },
 "nbformat": 4,
 "nbformat_minor": 5
}
