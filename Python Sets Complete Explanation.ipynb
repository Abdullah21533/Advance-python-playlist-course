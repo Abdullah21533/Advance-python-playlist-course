{
 "cells": [
  {
   "cell_type": "markdown",
   "id": "78ae182d-50bd-49e8-83b5-ed29e10c630e",
   "metadata": {},
   "source": [
    "# Python Sets: Complete Explanation"
   ]
  },
  {
   "cell_type": "markdown",
   "id": "a7de06a2-a9d5-4180-9c23-83c855db0b67",
   "metadata": {},
   "source": [
    "### Rule 1: No Duplicates"
   ]
  },
  {
   "cell_type": "code",
   "execution_count": 2,
   "id": "29241060-9ee2-415d-b74b-00e13955d05a",
   "metadata": {},
   "outputs": [
    {
     "name": "stdout",
     "output_type": "stream",
     "text": [
      "{1, 2, 3}\n"
     ]
    }
   ],
   "source": [
    "s1 = {1,1,2,2,3,3}\n",
    "print(s1)"
   ]
  },
  {
   "cell_type": "markdown",
   "id": "18f7523b-7ed3-491e-8956-3321b28df5d7",
   "metadata": {},
   "source": [
    "### Rule 2: No Indexing or Slicing"
   ]
  },
  {
   "cell_type": "code",
   "execution_count": 3,
   "id": "06b0c831-b82e-4113-aa1b-c27e75316a5d",
   "metadata": {},
   "outputs": [
    {
     "ename": "TypeError",
     "evalue": "'set' object is not subscriptable",
     "output_type": "error",
     "traceback": [
      "\u001b[1;31m---------------------------------------------------------------------------\u001b[0m",
      "\u001b[1;31mTypeError\u001b[0m                                 Traceback (most recent call last)",
      "Cell \u001b[1;32mIn[3], line 2\u001b[0m\n\u001b[0;32m      1\u001b[0m s2 \u001b[38;5;241m=\u001b[39m {\u001b[38;5;241m1\u001b[39m,\u001b[38;5;241m2\u001b[39m,\u001b[38;5;241m3\u001b[39m}\n\u001b[1;32m----> 2\u001b[0m \u001b[38;5;28mprint\u001b[39m(s2[\u001b[38;5;241m0\u001b[39m])\n",
      "\u001b[1;31mTypeError\u001b[0m: 'set' object is not subscriptable"
     ]
    }
   ],
   "source": [
    "s2 = {1,2,3}\n",
    "print(s2[0])"
   ]
  },
  {
   "cell_type": "markdown",
   "id": "648ee4cb-c33f-4083-bc82-3a98f9e867cd",
   "metadata": {},
   "source": [
    "### Rule 3: No Mutable Data Types"
   ]
  },
  {
   "cell_type": "code",
   "execution_count": 4,
   "id": "6be5d5df-fd05-470f-88f5-58e761090d92",
   "metadata": {},
   "outputs": [
    {
     "ename": "TypeError",
     "evalue": "unhashable type: 'list'",
     "output_type": "error",
     "traceback": [
      "\u001b[1;31m---------------------------------------------------------------------------\u001b[0m",
      "\u001b[1;31mTypeError\u001b[0m                                 Traceback (most recent call last)",
      "Cell \u001b[1;32mIn[4], line 1\u001b[0m\n\u001b[1;32m----> 1\u001b[0m s3 \u001b[38;5;241m=\u001b[39m {\u001b[38;5;241m1\u001b[39m,\u001b[38;5;241m2\u001b[39m,[\u001b[38;5;241m3\u001b[39m,\u001b[38;5;241m4\u001b[39m]}\n",
      "\u001b[1;31mTypeError\u001b[0m: unhashable type: 'list'"
     ]
    }
   ],
   "source": [
    "s3 = {1,2,[3,4]}"
   ]
  },
  {
   "cell_type": "markdown",
   "id": "76a94ef9-c655-464e-8ccf-bdd48e787eb3",
   "metadata": {},
   "source": [
    "### Rule 4: Sets are Mutable"
   ]
  },
  {
   "cell_type": "code",
   "execution_count": 6,
   "id": "ba39fe5a-9566-4c65-a208-f3a897eac202",
   "metadata": {},
   "outputs": [
    {
     "name": "stdout",
     "output_type": "stream",
     "text": [
      "{1, 2, 3, 4}\n"
     ]
    }
   ],
   "source": [
    "s4 = {1,2,3}\n",
    "s4.add(4)\n",
    "print(s4)"
   ]
  },
  {
   "cell_type": "markdown",
   "id": "0737a70f-87b3-4fd8-b629-fd712234ea78",
   "metadata": {},
   "source": [
    "## Creating Sets"
   ]
  },
  {
   "cell_type": "markdown",
   "id": "da2df93f-eee9-41b6-a77b-bc77d9b5d892",
   "metadata": {},
   "source": [
    "### Empty Set\n"
   ]
  },
  {
   "cell_type": "code",
   "execution_count": 7,
   "id": "b16d1316-0076-4bf9-8e72-4a466d0714b6",
   "metadata": {},
   "outputs": [
    {
     "name": "stdout",
     "output_type": "stream",
     "text": [
      "<class 'set'>\n"
     ]
    }
   ],
   "source": [
    "empty_set = set()\n",
    "print(type(empty_set))"
   ]
  },
  {
   "cell_type": "markdown",
   "id": "d8723639-91f0-44ec-b65a-7e7ac0a208e2",
   "metadata": {},
   "source": [
    "### Homogeneous Set"
   ]
  },
  {
   "cell_type": "code",
   "execution_count": 8,
   "id": "da28a91d-4d3b-44b6-a98f-d87e5cf8d441",
   "metadata": {},
   "outputs": [],
   "source": [
    "homogeneous_set = {1,2,3,4,5}"
   ]
  },
  {
   "cell_type": "markdown",
   "id": "9828e394-508d-45d4-af46-eecae788832c",
   "metadata": {},
   "source": [
    "### Heterogeneous Set"
   ]
  },
  {
   "cell_type": "code",
   "execution_count": 9,
   "id": "0a66571c-a8b6-4943-a82f-4ca1689b901e",
   "metadata": {},
   "outputs": [],
   "source": [
    "heterogeneous_set = {1,2.5, \"hello\", True}"
   ]
  },
  {
   "cell_type": "markdown",
   "id": "f268cc02-f261-4090-b11a-5e5c95e7b502",
   "metadata": {},
   "source": [
    "## Set Operations"
   ]
  },
  {
   "cell_type": "markdown",
   "id": "c49e990d-91ed-4799-bcfa-e952f2f28cb6",
   "metadata": {},
   "source": [
    "### Adding and Removing Items"
   ]
  },
  {
   "cell_type": "code",
   "execution_count": 10,
   "id": "71a4f92f-6abe-403f-8fec-ed8f6307b352",
   "metadata": {},
   "outputs": [
    {
     "name": "stdout",
     "output_type": "stream",
     "text": [
      "{2, 3, 4}\n"
     ]
    }
   ],
   "source": [
    "s = {1,2,3}\n",
    "s.add(4)\n",
    "s.remove(1)\n",
    "print(s)"
   ]
  },
  {
   "cell_type": "markdown",
   "id": "9393b5f3-8c45-4c17-bada-63a37f590f42",
   "metadata": {},
   "source": [
    "### Union and Intersection"
   ]
  },
  {
   "cell_type": "code",
   "execution_count": 12,
   "id": "acb1619b-58aa-44e3-bae9-1c93272c1998",
   "metadata": {},
   "outputs": [
    {
     "name": "stdout",
     "output_type": "stream",
     "text": [
      "{1, 2, 3, 4, 5}\n",
      "{3}\n"
     ]
    }
   ],
   "source": [
    "s1 = {1,2,3}\n",
    "s2 = {3,4,5}\n",
    "\n",
    "union_set = s1.union(s2)\n",
    "intersection_set = s1.intersection(s2)\n",
    "print(union_set)\n",
    "print(intersection_set)"
   ]
  },
  {
   "cell_type": "markdown",
   "id": "94c5c8c0-366a-4e6e-ad88-2e8db2fc9138",
   "metadata": {},
   "source": [
    "### Difference and Symmetric Difference"
   ]
  },
  {
   "cell_type": "code",
   "execution_count": 14,
   "id": "8b544a20-c1bc-465c-b9be-24d853cde3da",
   "metadata": {},
   "outputs": [
    {
     "name": "stdout",
     "output_type": "stream",
     "text": [
      "{1, 2}\n",
      "{1, 2, 4, 5}\n"
     ]
    }
   ],
   "source": [
    "difference_set = s1.difference(s2)\n",
    "symmetric_difference_set = s1.symmetric_difference(s2)\n",
    "\n",
    "print(difference_set)\n",
    "print(symmetric_difference_set)"
   ]
  },
  {
   "cell_type": "markdown",
   "id": "54b545bd-0e97-49fe-af77-9cbfb86c3f0d",
   "metadata": {},
   "source": [
    "### Additional Functions"
   ]
  },
  {
   "cell_type": "markdown",
   "id": "1a78d96c-af79-433c-ad1c-54c568b459cf",
   "metadata": {},
   "source": [
    "### Checking Subset and Superset"
   ]
  },
  {
   "cell_type": "code",
   "execution_count": 16,
   "id": "f95fd0dc-5590-4c9a-b910-5105ecbe0c5e",
   "metadata": {},
   "outputs": [
    {
     "name": "stdout",
     "output_type": "stream",
     "text": [
      "False\n",
      "False\n"
     ]
    }
   ],
   "source": [
    "print(s1.issubset(s2))\n",
    "print(s1.issuperset(s2))"
   ]
  },
  {
   "cell_type": "markdown",
   "id": "ce26ca2c-cbad-4429-ba17-4f7d7ee325ff",
   "metadata": {},
   "source": [
    "### Clearing a Set"
   ]
  },
  {
   "cell_type": "code",
   "execution_count": 17,
   "id": "4a1231ff-4443-4fe9-97bb-2a4542e54227",
   "metadata": {},
   "outputs": [
    {
     "name": "stdout",
     "output_type": "stream",
     "text": [
      "set()\n"
     ]
    }
   ],
   "source": [
    "s1.clear()\n",
    "print(s1)"
   ]
  },
  {
   "cell_type": "markdown",
   "id": "b5cb1f4a-7f66-4f5e-afc4-0dd9d762e8de",
   "metadata": {},
   "source": [
    "### Tips and Tricks\n",
    "Random Order: The order of elements in a set is not guaranteed.\n",
    "This is because sets use hashing to store elements.\n",
    "#### Fast Membership Test: \n",
    "Checking if an item exists in a set is faster compared to lists due to the underlying hash table implementation.\n",
    "#### Set Comprehension:\n",
    "You can create sets using set comprehensions, similar to list comprehensions."
   ]
  },
  {
   "cell_type": "code",
   "execution_count": 18,
   "id": "b42f4b23-998a-45bc-9b4f-f20748bfc81b",
   "metadata": {},
   "outputs": [
    {
     "name": "stdout",
     "output_type": "stream",
     "text": [
      "{0, 1, 64, 4, 36, 9, 16, 49, 81, 25}\n"
     ]
    }
   ],
   "source": [
    "squares = {x**2 for x in range(10)}\n",
    "print(squares)"
   ]
  },
  {
   "cell_type": "markdown",
   "id": "462facdd-7a02-4d5c-bb9e-3c0ee44927bc",
   "metadata": {},
   "source": [
    "### Example for Students"
   ]
  },
  {
   "cell_type": "code",
   "execution_count": 19,
   "id": "474f2cc4-43c3-48db-aaac-14a64dd69af2",
   "metadata": {},
   "outputs": [
    {
     "name": "stdout",
     "output_type": "stream",
     "text": [
      "{'yellow', 'red', 'green'}\n"
     ]
    }
   ],
   "source": [
    "color_box = {\"red\", \"blue\", \"green\"}\n",
    "color_box.add(\"yellow\")\n",
    "color_box.remove(\"blue\")\n",
    "print(color_box)"
   ]
  },
  {
   "cell_type": "markdown",
   "id": "cd00a29c-9c42-42ed-b82b-4c76fcb33957",
   "metadata": {},
   "source": [
    "## Python Dictionary: A Complete Guide"
   ]
  },
  {
   "cell_type": "code",
   "execution_count": 20,
   "id": "668211cf-3604-4336-8cf1-f2a253e1270c",
   "metadata": {},
   "outputs": [],
   "source": [
    "student = {\n",
    "    \"name\": \"john\",\n",
    "    \"age\": 16,\n",
    "    \"grade\": \"10th\"\n",
    "}"
   ]
  },
  {
   "cell_type": "markdown",
   "id": "87950824-b46a-44aa-8378-da1e06d6b901",
   "metadata": {},
   "source": [
    "### Creating a Dictionary\n",
    "##### Empty Dictionary: empty_dict = {}\n",
    "##### With Data: student = {\"name\": \"John\", \"age\": 16, \"grade\": \"10th\"}"
   ]
  },
  {
   "cell_type": "code",
   "execution_count": null,
   "id": "6f44e9d0-1007-4b7f-a497-5a6bf4341eb6",
   "metadata": {},
   "outputs": [],
   "source": []
  },
  {
   "cell_type": "markdown",
   "id": "f6a77535-400c-402d-87b7-136c62a91aaf",
   "metadata": {},
   "source": [
    "### Accessing Items"
   ]
  },
  {
   "cell_type": "code",
   "execution_count": 21,
   "id": "34049e41-0daa-4071-b9dc-2dda3c6e3436",
   "metadata": {},
   "outputs": [
    {
     "name": "stdout",
     "output_type": "stream",
     "text": [
      "john\n"
     ]
    }
   ],
   "source": [
    "print(student[\"name\"])"
   ]
  },
  {
   "cell_type": "code",
   "execution_count": 22,
   "id": "0b36f04d-603a-4947-8070-c0eccbad4736",
   "metadata": {},
   "outputs": [
    {
     "name": "stdout",
     "output_type": "stream",
     "text": [
      "None\n"
     ]
    }
   ],
   "source": [
    "print(student.get(\"address\"))"
   ]
  },
  {
   "cell_type": "markdown",
   "id": "881f4690-17b5-4b32-b219-23f88a8cd1fb",
   "metadata": {},
   "source": [
    "### Adding or Changing Items"
   ]
  },
  {
   "cell_type": "code",
   "execution_count": 24,
   "id": "b45817db-87bc-4a01-b5cd-d4d8631424a9",
   "metadata": {},
   "outputs": [],
   "source": [
    "student[\"school\"] = \"High School\"\n",
    "student[\"grade\"] = \"11th\""
   ]
  },
  {
   "cell_type": "markdown",
   "id": "f71ab10a-33c7-4420-9118-b64705578a50",
   "metadata": {},
   "source": [
    "### Removing Items"
   ]
  },
  {
   "cell_type": "code",
   "execution_count": 25,
   "id": "fde24e0e-741f-4cbc-8b7c-4e5e89223342",
   "metadata": {},
   "outputs": [],
   "source": [
    "del student[\"age\"]"
   ]
  },
  {
   "cell_type": "code",
   "execution_count": 26,
   "id": "f1b85466-5ed0-4b99-8028-820df2d281b8",
   "metadata": {},
   "outputs": [],
   "source": [
    "student.clear()"
   ]
  },
  {
   "cell_type": "markdown",
   "id": "e83ea058-de51-4095-95a8-f85149bfb3d5",
   "metadata": {},
   "source": [
    "### Looping Through a Dictionary"
   ]
  },
  {
   "cell_type": "code",
   "execution_count": 27,
   "id": "2660bc15-d1af-4656-b279-2cb08f5f468d",
   "metadata": {},
   "outputs": [],
   "source": [
    "for key in student:\n",
    "    print(key)"
   ]
  },
  {
   "cell_type": "code",
   "execution_count": 28,
   "id": "bef5d7fb-9b0e-42fb-af0a-42c9416dbf8f",
   "metadata": {},
   "outputs": [],
   "source": [
    "for value in student.values():\n",
    "    \n",
    "    print()"
   ]
  },
  {
   "cell_type": "code",
   "execution_count": 29,
   "id": "1391fc21-2fe9-444f-8c27-a87f97edc6e2",
   "metadata": {},
   "outputs": [],
   "source": [
    "for key, value in student.items():\n",
    "    print(key,value)"
   ]
  },
  {
   "cell_type": "markdown",
   "id": "65f6a8af-be9e-459e-9a43-32ee8bdea714",
   "metadata": {},
   "source": [
    "### Tips and Tricks\n",
    "#### Default Values:\n",
    "Use the get method to provide a default value if the key is not found:"
   ]
  },
  {
   "cell_type": "code",
   "execution_count": 30,
   "id": "d839af4b-c3f2-46fe-b933-3409b91f0969",
   "metadata": {},
   "outputs": [
    {
     "name": "stdout",
     "output_type": "stream",
     "text": [
      "No address found\n"
     ]
    }
   ],
   "source": [
    "print(student.get(\"address\", \"No address found\"))"
   ]
  },
  {
   "cell_type": "markdown",
   "id": "7f52ec7a-a942-43b0-84b7-7b9fc321c2fe",
   "metadata": {},
   "source": [
    "#### Dictionary Comprehensions: Create dictionaries quickly:"
   ]
  },
  {
   "cell_type": "code",
   "execution_count": 31,
   "id": "14bdf7b1-f4f0-483d-8abf-30057e2d66aa",
   "metadata": {},
   "outputs": [],
   "source": [
    "squares = {x: x*x for x in range(1,6)}"
   ]
  },
  {
   "cell_type": "markdown",
   "id": "b8cee2cb-d11f-434d-940f-be4765c5f444",
   "metadata": {},
   "source": [
    "#### Check Existence: Use in to check if a key exists:"
   ]
  },
  {
   "cell_type": "code",
   "execution_count": 32,
   "id": "d724dc38-3eff-498d-b371-7afc00e04eee",
   "metadata": {},
   "outputs": [],
   "source": [
    "if \"name\"in student:\n",
    "    print(\"Name is avaible\")"
   ]
  },
  {
   "cell_type": "markdown",
   "id": "35b2e39a-b963-4270-9b0c-628d13e8f158",
   "metadata": {},
   "source": [
    "#### Example: School Student Records"
   ]
  },
  {
   "cell_type": "code",
   "execution_count": 36,
   "id": "af141007-49fa-4c27-a948-ee383ebcbdbe",
   "metadata": {},
   "outputs": [
    {
     "name": "stdout",
     "output_type": "stream",
     "text": [
      "75\n"
     ]
    }
   ],
   "source": [
    "students = {\n",
    "    \"john\": {\"math\": 90, \"science\": 85, \"english\": 78},\n",
    "    \"Alice\": {\"math\": 95, \"science\": 92, \"english\": 88},\n",
    "    \"Bob\": {\"math\": 70, \"science\": 75, \"english\": 80}\n",
    "}\n",
    "\n",
    "# Accessing Bob's science mark\n",
    "print(students[\"Bob\"][\"science\"])"
   ]
  },
  {
   "cell_type": "code",
   "execution_count": null,
   "id": "72ab0e40-51fd-400a-a972-c5d624784a3c",
   "metadata": {},
   "outputs": [],
   "source": []
  }
 ],
 "metadata": {
  "kernelspec": {
   "display_name": "Python 3 (ipykernel)",
   "language": "python",
   "name": "python3"
  },
  "language_info": {
   "codemirror_mode": {
    "name": "ipython",
    "version": 3
   },
   "file_extension": ".py",
   "mimetype": "text/x-python",
   "name": "python",
   "nbconvert_exporter": "python",
   "pygments_lexer": "ipython3",
   "version": "3.11.7"
  }
 },
 "nbformat": 4,
 "nbformat_minor": 5
}
